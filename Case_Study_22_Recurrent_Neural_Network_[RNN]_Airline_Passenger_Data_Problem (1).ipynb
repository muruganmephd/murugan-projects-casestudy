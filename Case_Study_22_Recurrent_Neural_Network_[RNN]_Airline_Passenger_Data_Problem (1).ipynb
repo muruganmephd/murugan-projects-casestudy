{
  "nbformat": 4,
  "nbformat_minor": 0,
  "metadata": {
    "colab": {
      "provenance": []
    },
    "kernelspec": {
      "name": "python3",
      "display_name": "Python 3"
    },
    "language_info": {
      "name": "python"
    }
  },
  "cells": [
    {
      "cell_type": "code",
      "execution_count": 5,
      "metadata": {
        "id": "FcpqWbmhOd1V"
      },
      "outputs": [],
      "source": [
        "import pandas as pd\n",
        "import numpy as np"
      ]
    },
    {
      "cell_type": "code",
      "source": [
        "data = pd.read_csv(\"airline-passengers.csv\")"
      ],
      "metadata": {
        "id": "fp4C4o2TO7Og"
      },
      "execution_count": 9,
      "outputs": []
    },
    {
      "cell_type": "code",
      "source": [
        "data = data[\"Passengers\"].values"
      ],
      "metadata": {
        "id": "AVm83YIBO7Rv"
      },
      "execution_count": 10,
      "outputs": []
    },
    {
      "cell_type": "code",
      "source": [
        "data"
      ],
      "metadata": {
        "colab": {
          "base_uri": "https://localhost:8080/"
        },
        "id": "vmwlcJAQO7dV",
        "outputId": "d0745834-6dc4-4680-f539-03f11bf7d857"
      },
      "execution_count": 11,
      "outputs": [
        {
          "output_type": "execute_result",
          "data": {
            "text/plain": [
              "array([112, 118, 132, 129, 121, 135, 148, 148, 136, 119, 104, 118, 115,\n",
              "       126, 141, 135, 125, 149, 170, 170, 158, 133, 114, 140, 145, 150,\n",
              "       178, 163, 172, 178, 199, 199, 184, 162, 146, 166, 171, 180, 193,\n",
              "       181, 183, 218, 230, 242, 209, 191, 172, 194, 196, 196, 236, 235,\n",
              "       229, 243, 264, 272, 237, 211, 180, 201, 204, 188, 235, 227, 234,\n",
              "       264, 302, 293, 259, 229, 203, 229, 242, 233, 267, 269, 270, 315,\n",
              "       364, 347, 312, 274, 237, 278, 284, 277, 317, 313, 318, 374, 413,\n",
              "       405, 355, 306, 271, 306, 315, 301, 356, 348, 355, 422, 465, 467,\n",
              "       404, 347, 305, 336, 340, 318, 362, 348, 363, 435, 491, 505, 404,\n",
              "       359, 310, 337, 360, 342, 406, 396, 420, 472, 548, 559, 463, 407,\n",
              "       362, 405, 417, 391, 419, 461, 472, 535, 622, 606, 508, 461, 390,\n",
              "       432])"
            ]
          },
          "metadata": {},
          "execution_count": 11
        }
      ]
    },
    {
      "cell_type": "code",
      "source": [
        "# Prepare the data"
      ],
      "metadata": {
        "id": "2WFL1fkHO7hT"
      },
      "execution_count": null,
      "outputs": []
    },
    {
      "cell_type": "code",
      "source": [
        "def create_data(data, timeperiod):\n",
        "    X = []\n",
        "    y = []\n",
        "    for i in range(len(data)-timeperiod-1):\n",
        "        X.append(data[i:(i+timeperiod)-1])\n",
        "        y.append(data[(i+timeperiod)-1])\n",
        "    return X, y"
      ],
      "metadata": {
        "id": "SxuRf_3JO7kP"
      },
      "execution_count": 12,
      "outputs": []
    },
    {
      "cell_type": "code",
      "source": [
        "X, y = create_data(data = data, timeperiod=3)"
      ],
      "metadata": {
        "id": "iQ-Opn82O7nY"
      },
      "execution_count": 13,
      "outputs": []
    },
    {
      "cell_type": "code",
      "source": [
        "X"
      ],
      "metadata": {
        "colab": {
          "base_uri": "https://localhost:8080/"
        },
        "id": "SxSmJGiRO7qw",
        "outputId": "51af2dc4-0b54-41b9-8de4-f3196ce041fa"
      },
      "execution_count": 14,
      "outputs": [
        {
          "output_type": "execute_result",
          "data": {
            "text/plain": [
              "[array([112, 118]),\n",
              " array([118, 132]),\n",
              " array([132, 129]),\n",
              " array([129, 121]),\n",
              " array([121, 135]),\n",
              " array([135, 148]),\n",
              " array([148, 148]),\n",
              " array([148, 136]),\n",
              " array([136, 119]),\n",
              " array([119, 104]),\n",
              " array([104, 118]),\n",
              " array([118, 115]),\n",
              " array([115, 126]),\n",
              " array([126, 141]),\n",
              " array([141, 135]),\n",
              " array([135, 125]),\n",
              " array([125, 149]),\n",
              " array([149, 170]),\n",
              " array([170, 170]),\n",
              " array([170, 158]),\n",
              " array([158, 133]),\n",
              " array([133, 114]),\n",
              " array([114, 140]),\n",
              " array([140, 145]),\n",
              " array([145, 150]),\n",
              " array([150, 178]),\n",
              " array([178, 163]),\n",
              " array([163, 172]),\n",
              " array([172, 178]),\n",
              " array([178, 199]),\n",
              " array([199, 199]),\n",
              " array([199, 184]),\n",
              " array([184, 162]),\n",
              " array([162, 146]),\n",
              " array([146, 166]),\n",
              " array([166, 171]),\n",
              " array([171, 180]),\n",
              " array([180, 193]),\n",
              " array([193, 181]),\n",
              " array([181, 183]),\n",
              " array([183, 218]),\n",
              " array([218, 230]),\n",
              " array([230, 242]),\n",
              " array([242, 209]),\n",
              " array([209, 191]),\n",
              " array([191, 172]),\n",
              " array([172, 194]),\n",
              " array([194, 196]),\n",
              " array([196, 196]),\n",
              " array([196, 236]),\n",
              " array([236, 235]),\n",
              " array([235, 229]),\n",
              " array([229, 243]),\n",
              " array([243, 264]),\n",
              " array([264, 272]),\n",
              " array([272, 237]),\n",
              " array([237, 211]),\n",
              " array([211, 180]),\n",
              " array([180, 201]),\n",
              " array([201, 204]),\n",
              " array([204, 188]),\n",
              " array([188, 235]),\n",
              " array([235, 227]),\n",
              " array([227, 234]),\n",
              " array([234, 264]),\n",
              " array([264, 302]),\n",
              " array([302, 293]),\n",
              " array([293, 259]),\n",
              " array([259, 229]),\n",
              " array([229, 203]),\n",
              " array([203, 229]),\n",
              " array([229, 242]),\n",
              " array([242, 233]),\n",
              " array([233, 267]),\n",
              " array([267, 269]),\n",
              " array([269, 270]),\n",
              " array([270, 315]),\n",
              " array([315, 364]),\n",
              " array([364, 347]),\n",
              " array([347, 312]),\n",
              " array([312, 274]),\n",
              " array([274, 237]),\n",
              " array([237, 278]),\n",
              " array([278, 284]),\n",
              " array([284, 277]),\n",
              " array([277, 317]),\n",
              " array([317, 313]),\n",
              " array([313, 318]),\n",
              " array([318, 374]),\n",
              " array([374, 413]),\n",
              " array([413, 405]),\n",
              " array([405, 355]),\n",
              " array([355, 306]),\n",
              " array([306, 271]),\n",
              " array([271, 306]),\n",
              " array([306, 315]),\n",
              " array([315, 301]),\n",
              " array([301, 356]),\n",
              " array([356, 348]),\n",
              " array([348, 355]),\n",
              " array([355, 422]),\n",
              " array([422, 465]),\n",
              " array([465, 467]),\n",
              " array([467, 404]),\n",
              " array([404, 347]),\n",
              " array([347, 305]),\n",
              " array([305, 336]),\n",
              " array([336, 340]),\n",
              " array([340, 318]),\n",
              " array([318, 362]),\n",
              " array([362, 348]),\n",
              " array([348, 363]),\n",
              " array([363, 435]),\n",
              " array([435, 491]),\n",
              " array([491, 505]),\n",
              " array([505, 404]),\n",
              " array([404, 359]),\n",
              " array([359, 310]),\n",
              " array([310, 337]),\n",
              " array([337, 360]),\n",
              " array([360, 342]),\n",
              " array([342, 406]),\n",
              " array([406, 396]),\n",
              " array([396, 420]),\n",
              " array([420, 472]),\n",
              " array([472, 548]),\n",
              " array([548, 559]),\n",
              " array([559, 463]),\n",
              " array([463, 407]),\n",
              " array([407, 362]),\n",
              " array([362, 405]),\n",
              " array([405, 417]),\n",
              " array([417, 391]),\n",
              " array([391, 419]),\n",
              " array([419, 461]),\n",
              " array([461, 472]),\n",
              " array([472, 535]),\n",
              " array([535, 622]),\n",
              " array([622, 606]),\n",
              " array([606, 508])]"
            ]
          },
          "metadata": {},
          "execution_count": 14
        }
      ]
    },
    {
      "cell_type": "code",
      "source": [
        "y"
      ],
      "metadata": {
        "colab": {
          "base_uri": "https://localhost:8080/"
        },
        "id": "6RAYLNMIO7vf",
        "outputId": "46115823-c8af-4e3f-ec2f-866e41f4649d"
      },
      "execution_count": 15,
      "outputs": [
        {
          "output_type": "execute_result",
          "data": {
            "text/plain": [
              "[132,\n",
              " 129,\n",
              " 121,\n",
              " 135,\n",
              " 148,\n",
              " 148,\n",
              " 136,\n",
              " 119,\n",
              " 104,\n",
              " 118,\n",
              " 115,\n",
              " 126,\n",
              " 141,\n",
              " 135,\n",
              " 125,\n",
              " 149,\n",
              " 170,\n",
              " 170,\n",
              " 158,\n",
              " 133,\n",
              " 114,\n",
              " 140,\n",
              " 145,\n",
              " 150,\n",
              " 178,\n",
              " 163,\n",
              " 172,\n",
              " 178,\n",
              " 199,\n",
              " 199,\n",
              " 184,\n",
              " 162,\n",
              " 146,\n",
              " 166,\n",
              " 171,\n",
              " 180,\n",
              " 193,\n",
              " 181,\n",
              " 183,\n",
              " 218,\n",
              " 230,\n",
              " 242,\n",
              " 209,\n",
              " 191,\n",
              " 172,\n",
              " 194,\n",
              " 196,\n",
              " 196,\n",
              " 236,\n",
              " 235,\n",
              " 229,\n",
              " 243,\n",
              " 264,\n",
              " 272,\n",
              " 237,\n",
              " 211,\n",
              " 180,\n",
              " 201,\n",
              " 204,\n",
              " 188,\n",
              " 235,\n",
              " 227,\n",
              " 234,\n",
              " 264,\n",
              " 302,\n",
              " 293,\n",
              " 259,\n",
              " 229,\n",
              " 203,\n",
              " 229,\n",
              " 242,\n",
              " 233,\n",
              " 267,\n",
              " 269,\n",
              " 270,\n",
              " 315,\n",
              " 364,\n",
              " 347,\n",
              " 312,\n",
              " 274,\n",
              " 237,\n",
              " 278,\n",
              " 284,\n",
              " 277,\n",
              " 317,\n",
              " 313,\n",
              " 318,\n",
              " 374,\n",
              " 413,\n",
              " 405,\n",
              " 355,\n",
              " 306,\n",
              " 271,\n",
              " 306,\n",
              " 315,\n",
              " 301,\n",
              " 356,\n",
              " 348,\n",
              " 355,\n",
              " 422,\n",
              " 465,\n",
              " 467,\n",
              " 404,\n",
              " 347,\n",
              " 305,\n",
              " 336,\n",
              " 340,\n",
              " 318,\n",
              " 362,\n",
              " 348,\n",
              " 363,\n",
              " 435,\n",
              " 491,\n",
              " 505,\n",
              " 404,\n",
              " 359,\n",
              " 310,\n",
              " 337,\n",
              " 360,\n",
              " 342,\n",
              " 406,\n",
              " 396,\n",
              " 420,\n",
              " 472,\n",
              " 548,\n",
              " 559,\n",
              " 463,\n",
              " 407,\n",
              " 362,\n",
              " 405,\n",
              " 417,\n",
              " 391,\n",
              " 419,\n",
              " 461,\n",
              " 472,\n",
              " 535,\n",
              " 622,\n",
              " 606,\n",
              " 508,\n",
              " 461]"
            ]
          },
          "metadata": {},
          "execution_count": 15
        }
      ]
    },
    {
      "cell_type": "code",
      "source": [
        "X = np.array(X)                 # Convert into numpy array\n",
        "y = np.array(y)"
      ],
      "metadata": {
        "id": "Lq1Co7h7O7z8"
      },
      "execution_count": 16,
      "outputs": []
    },
    {
      "cell_type": "code",
      "source": [
        "# Train Test Split"
      ],
      "metadata": {
        "id": "-OtGq0oLO73N"
      },
      "execution_count": null,
      "outputs": []
    },
    {
      "cell_type": "code",
      "source": [
        "train_size = 0.7\n",
        "cut = round(train_size*len(X))\n",
        "\n",
        "trainX = X[:cut].reshape(-1,1,2)          # 1 row and 2 columns\n",
        "testX = X[cut:].reshape(-1,1,2)\n",
        "\n",
        "trainy = y[:cut]\n",
        "testy = y[cut:]"
      ],
      "metadata": {
        "id": "EH8kPzdqO76J"
      },
      "execution_count": 17,
      "outputs": []
    },
    {
      "cell_type": "code",
      "source": [
        "print(trainX.shape)\n",
        "print(trainy.shape)\n",
        "print(testX.shape)\n",
        "print(testy.shape)"
      ],
      "metadata": {
        "colab": {
          "base_uri": "https://localhost:8080/"
        },
        "id": "-SpJ2p84O7-B",
        "outputId": "6f336e5d-f4cf-4cf5-b271-65f6ed7ca5b4"
      },
      "execution_count": 18,
      "outputs": [
        {
          "output_type": "stream",
          "name": "stdout",
          "text": [
            "(98, 1, 2)\n",
            "(98,)\n",
            "(42, 1, 2)\n",
            "(42,)\n"
          ]
        }
      ]
    },
    {
      "cell_type": "code",
      "source": [
        "testy.shape"
      ],
      "metadata": {
        "colab": {
          "base_uri": "https://localhost:8080/"
        },
        "id": "mPNOiEk6O8CD",
        "outputId": "0a825d39-4d38-48fc-ef08-82e7dd69b1d1"
      },
      "execution_count": 19,
      "outputs": [
        {
          "output_type": "execute_result",
          "data": {
            "text/plain": [
              "(42,)"
            ]
          },
          "metadata": {},
          "execution_count": 19
        }
      ]
    },
    {
      "cell_type": "code",
      "source": [
        "# Model Building"
      ],
      "metadata": {
        "id": "zr0mkDQAO8FR"
      },
      "execution_count": null,
      "outputs": []
    },
    {
      "cell_type": "code",
      "source": [
        "from tensorflow.keras.models import Sequential\n",
        "from tensorflow.keras.layers import SimpleRNN, Dense\n",
        "from tensorflow.keras.optimizers import Adam"
      ],
      "metadata": {
        "id": "yYVPyGi8O8IQ"
      },
      "execution_count": 20,
      "outputs": []
    },
    {
      "cell_type": "code",
      "source": [
        "model = Sequential()\n",
        "model.add(SimpleRNN(5, activation=\"relu\", input_shape=(1,2)))            # Here 5 units taken\n",
        "model.add(Dense(3, \"relu\")) # Output layer\n",
        "model.add(Dense(1)) # Output layer"
      ],
      "metadata": {
        "id": "s0Fpc_GgO8Lc"
      },
      "execution_count": 21,
      "outputs": []
    },
    {
      "cell_type": "code",
      "source": [
        "model.compile(optimizer = Adam(learning_rate=0.1), loss=\"mean_squared_error\")"
      ],
      "metadata": {
        "id": "6wRkjUnMO8Om"
      },
      "execution_count": 22,
      "outputs": []
    },
    {
      "cell_type": "code",
      "source": [
        "model.fit(x=trainX, y= trainy, epochs = 100, batch_size=50, validation_data=(testX, testy))"
      ],
      "metadata": {
        "colab": {
          "base_uri": "https://localhost:8080/"
        },
        "id": "EB7zPdlSO8Sp",
        "outputId": "5bd1b683-8896-4366-a18c-8d8a18635085"
      },
      "execution_count": 23,
      "outputs": [
        {
          "output_type": "stream",
          "name": "stdout",
          "text": [
            "Epoch 1/100\n",
            "2/2 [==============================] - 2s 416ms/step - loss: 39538.9961 - val_loss: 3397.2380\n",
            "Epoch 2/100\n",
            "2/2 [==============================] - 0s 42ms/step - loss: 6238.8022 - val_loss: 36875.0508\n",
            "Epoch 3/100\n",
            "2/2 [==============================] - 0s 42ms/step - loss: 7388.8540 - val_loss: 2916.1113\n",
            "Epoch 4/100\n",
            "2/2 [==============================] - 0s 58ms/step - loss: 1094.5320 - val_loss: 13001.7188\n",
            "Epoch 5/100\n",
            "2/2 [==============================] - 0s 60ms/step - loss: 4375.2993 - val_loss: 17050.5938\n",
            "Epoch 6/100\n",
            "2/2 [==============================] - 0s 62ms/step - loss: 4008.9885 - val_loss: 4449.0322\n",
            "Epoch 7/100\n",
            "2/2 [==============================] - 0s 59ms/step - loss: 1340.7676 - val_loss: 12714.1475\n",
            "Epoch 8/100\n",
            "2/2 [==============================] - 0s 61ms/step - loss: 2733.6616 - val_loss: 4570.9961\n",
            "Epoch 9/100\n",
            "2/2 [==============================] - 0s 31ms/step - loss: 885.9615 - val_loss: 6617.9287\n",
            "Epoch 10/100\n",
            "2/2 [==============================] - 0s 30ms/step - loss: 1778.5366 - val_loss: 6373.4336\n",
            "Epoch 11/100\n",
            "2/2 [==============================] - 0s 47ms/step - loss: 1329.2212 - val_loss: 3584.9199\n",
            "Epoch 12/100\n",
            "2/2 [==============================] - 0s 28ms/step - loss: 862.6497 - val_loss: 5288.5088\n",
            "Epoch 13/100\n",
            "2/2 [==============================] - 0s 44ms/step - loss: 1208.2751 - val_loss: 4129.8960\n",
            "Epoch 14/100\n",
            "2/2 [==============================] - 0s 30ms/step - loss: 877.1635 - val_loss: 3243.2544\n",
            "Epoch 15/100\n",
            "2/2 [==============================] - 0s 32ms/step - loss: 738.1569 - val_loss: 3779.5603\n",
            "Epoch 16/100\n",
            "2/2 [==============================] - 0s 28ms/step - loss: 888.7615 - val_loss: 3300.7791\n",
            "Epoch 17/100\n",
            "2/2 [==============================] - 0s 29ms/step - loss: 746.3755 - val_loss: 2950.4114\n",
            "Epoch 18/100\n",
            "2/2 [==============================] - 0s 29ms/step - loss: 681.5383 - val_loss: 3253.5840\n",
            "Epoch 19/100\n",
            "2/2 [==============================] - 0s 29ms/step - loss: 723.5370 - val_loss: 2857.8987\n",
            "Epoch 20/100\n",
            "2/2 [==============================] - 0s 29ms/step - loss: 631.5615 - val_loss: 2759.0645\n",
            "Epoch 21/100\n",
            "2/2 [==============================] - 0s 30ms/step - loss: 638.2025 - val_loss: 2794.4348\n",
            "Epoch 22/100\n",
            "2/2 [==============================] - 0s 47ms/step - loss: 642.8947 - val_loss: 2646.8015\n",
            "Epoch 23/100\n",
            "2/2 [==============================] - 0s 32ms/step - loss: 590.4640 - val_loss: 2644.8618\n",
            "Epoch 24/100\n",
            "2/2 [==============================] - 0s 29ms/step - loss: 594.1536 - val_loss: 2624.4888\n",
            "Epoch 25/100\n",
            "2/2 [==============================] - 0s 28ms/step - loss: 591.5182 - val_loss: 2554.5718\n",
            "Epoch 26/100\n",
            "2/2 [==============================] - 0s 28ms/step - loss: 585.5853 - val_loss: 2522.3145\n",
            "Epoch 27/100\n",
            "2/2 [==============================] - 0s 28ms/step - loss: 590.5131 - val_loss: 2498.2219\n",
            "Epoch 28/100\n",
            "2/2 [==============================] - 0s 28ms/step - loss: 575.4959 - val_loss: 2483.7000\n",
            "Epoch 29/100\n",
            "2/2 [==============================] - 0s 30ms/step - loss: 569.3594 - val_loss: 2465.5791\n",
            "Epoch 30/100\n",
            "2/2 [==============================] - 0s 28ms/step - loss: 566.8840 - val_loss: 2422.2935\n",
            "Epoch 31/100\n",
            "2/2 [==============================] - 0s 29ms/step - loss: 563.2643 - val_loss: 2400.3999\n",
            "Epoch 32/100\n",
            "2/2 [==============================] - 0s 28ms/step - loss: 563.7067 - val_loss: 2378.2310\n",
            "Epoch 33/100\n",
            "2/2 [==============================] - 0s 28ms/step - loss: 554.3513 - val_loss: 2368.7388\n",
            "Epoch 34/100\n",
            "2/2 [==============================] - 0s 29ms/step - loss: 553.0054 - val_loss: 2356.5229\n",
            "Epoch 35/100\n",
            "2/2 [==============================] - 0s 34ms/step - loss: 552.6895 - val_loss: 2321.0637\n",
            "Epoch 36/100\n",
            "2/2 [==============================] - 0s 35ms/step - loss: 571.8515 - val_loss: 2306.0476\n",
            "Epoch 37/100\n",
            "2/2 [==============================] - 0s 29ms/step - loss: 579.4724 - val_loss: 2340.0383\n",
            "Epoch 38/100\n",
            "2/2 [==============================] - 0s 35ms/step - loss: 566.3269 - val_loss: 2274.8997\n",
            "Epoch 39/100\n",
            "2/2 [==============================] - 0s 29ms/step - loss: 556.2157 - val_loss: 2295.0503\n",
            "Epoch 40/100\n",
            "2/2 [==============================] - 0s 31ms/step - loss: 545.6801 - val_loss: 2245.5205\n",
            "Epoch 41/100\n",
            "2/2 [==============================] - 0s 29ms/step - loss: 540.2899 - val_loss: 2245.4204\n",
            "Epoch 42/100\n",
            "2/2 [==============================] - 0s 28ms/step - loss: 549.1888 - val_loss: 2224.0752\n",
            "Epoch 43/100\n",
            "2/2 [==============================] - 0s 29ms/step - loss: 535.9388 - val_loss: 2212.1831\n",
            "Epoch 44/100\n",
            "2/2 [==============================] - 0s 28ms/step - loss: 535.3318 - val_loss: 2200.5854\n",
            "Epoch 45/100\n",
            "2/2 [==============================] - 0s 28ms/step - loss: 535.2110 - val_loss: 2190.7593\n",
            "Epoch 46/100\n",
            "2/2 [==============================] - 0s 28ms/step - loss: 542.6385 - val_loss: 2184.1816\n",
            "Epoch 47/100\n",
            "2/2 [==============================] - 0s 29ms/step - loss: 532.9159 - val_loss: 2173.7756\n",
            "Epoch 48/100\n",
            "2/2 [==============================] - 0s 30ms/step - loss: 533.2920 - val_loss: 2164.1318\n",
            "Epoch 49/100\n",
            "2/2 [==============================] - 0s 30ms/step - loss: 536.0042 - val_loss: 2158.1926\n",
            "Epoch 50/100\n",
            "2/2 [==============================] - 0s 32ms/step - loss: 531.8027 - val_loss: 2153.1638\n",
            "Epoch 51/100\n",
            "2/2 [==============================] - 0s 32ms/step - loss: 530.7047 - val_loss: 2144.1025\n",
            "Epoch 52/100\n",
            "2/2 [==============================] - 0s 32ms/step - loss: 529.3398 - val_loss: 2141.9731\n",
            "Epoch 53/100\n",
            "2/2 [==============================] - 0s 29ms/step - loss: 534.3040 - val_loss: 2136.1968\n",
            "Epoch 54/100\n",
            "2/2 [==============================] - 0s 29ms/step - loss: 528.4068 - val_loss: 2138.8716\n",
            "Epoch 55/100\n",
            "2/2 [==============================] - 0s 27ms/step - loss: 531.0859 - val_loss: 2126.1135\n",
            "Epoch 56/100\n",
            "2/2 [==============================] - 0s 29ms/step - loss: 546.6511 - val_loss: 2131.4075\n",
            "Epoch 57/100\n",
            "2/2 [==============================] - 0s 27ms/step - loss: 534.9941 - val_loss: 2134.2703\n",
            "Epoch 58/100\n",
            "2/2 [==============================] - 0s 50ms/step - loss: 533.8911 - val_loss: 2114.4761\n",
            "Epoch 59/100\n",
            "2/2 [==============================] - 0s 29ms/step - loss: 543.9633 - val_loss: 2112.1951\n",
            "Epoch 60/100\n",
            "2/2 [==============================] - 0s 27ms/step - loss: 525.7968 - val_loss: 2127.7676\n",
            "Epoch 61/100\n",
            "2/2 [==============================] - 0s 28ms/step - loss: 538.9979 - val_loss: 2120.3159\n",
            "Epoch 62/100\n",
            "2/2 [==============================] - 0s 31ms/step - loss: 529.5156 - val_loss: 2121.5520\n",
            "Epoch 63/100\n",
            "2/2 [==============================] - 0s 29ms/step - loss: 531.9194 - val_loss: 2148.6997\n",
            "Epoch 64/100\n",
            "2/2 [==============================] - 0s 30ms/step - loss: 535.8490 - val_loss: 2106.0066\n",
            "Epoch 65/100\n",
            "2/2 [==============================] - 0s 31ms/step - loss: 528.5500 - val_loss: 2113.1084\n",
            "Epoch 66/100\n",
            "2/2 [==============================] - 0s 30ms/step - loss: 530.1799 - val_loss: 2099.9045\n",
            "Epoch 67/100\n",
            "2/2 [==============================] - 0s 33ms/step - loss: 528.6040 - val_loss: 2112.3677\n",
            "Epoch 68/100\n",
            "2/2 [==============================] - 0s 34ms/step - loss: 529.1960 - val_loss: 2097.2498\n",
            "Epoch 69/100\n",
            "2/2 [==============================] - 0s 28ms/step - loss: 526.4109 - val_loss: 2099.9043\n",
            "Epoch 70/100\n",
            "2/2 [==============================] - 0s 28ms/step - loss: 548.2115 - val_loss: 2102.8433\n",
            "Epoch 71/100\n",
            "2/2 [==============================] - 0s 28ms/step - loss: 527.3192 - val_loss: 2101.7917\n",
            "Epoch 72/100\n",
            "2/2 [==============================] - 0s 31ms/step - loss: 529.9807 - val_loss: 2106.1184\n",
            "Epoch 73/100\n",
            "2/2 [==============================] - 0s 29ms/step - loss: 535.5955 - val_loss: 2094.9424\n",
            "Epoch 74/100\n",
            "2/2 [==============================] - 0s 29ms/step - loss: 524.1266 - val_loss: 2129.1489\n",
            "Epoch 75/100\n",
            "2/2 [==============================] - 0s 29ms/step - loss: 548.2153 - val_loss: 2094.6533\n",
            "Epoch 76/100\n",
            "2/2 [==============================] - 0s 28ms/step - loss: 525.7974 - val_loss: 2097.0098\n",
            "Epoch 77/100\n",
            "2/2 [==============================] - 0s 29ms/step - loss: 535.5032 - val_loss: 2094.5398\n",
            "Epoch 78/100\n",
            "2/2 [==============================] - 0s 28ms/step - loss: 525.4200 - val_loss: 2109.9241\n",
            "Epoch 79/100\n",
            "2/2 [==============================] - 0s 28ms/step - loss: 536.5010 - val_loss: 2091.9927\n",
            "Epoch 80/100\n",
            "2/2 [==============================] - 0s 27ms/step - loss: 527.1047 - val_loss: 2148.4331\n",
            "Epoch 81/100\n",
            "2/2 [==============================] - 0s 31ms/step - loss: 535.3049 - val_loss: 2091.8442\n",
            "Epoch 82/100\n",
            "2/2 [==============================] - 0s 31ms/step - loss: 533.1970 - val_loss: 2104.5129\n",
            "Epoch 83/100\n",
            "2/2 [==============================] - 0s 29ms/step - loss: 541.0099 - val_loss: 2123.6453\n",
            "Epoch 84/100\n",
            "2/2 [==============================] - 0s 29ms/step - loss: 532.7635 - val_loss: 2089.6379\n",
            "Epoch 85/100\n",
            "2/2 [==============================] - 0s 27ms/step - loss: 528.4572 - val_loss: 2113.4465\n",
            "Epoch 86/100\n",
            "2/2 [==============================] - 0s 51ms/step - loss: 533.9851 - val_loss: 2096.9570\n",
            "Epoch 87/100\n",
            "2/2 [==============================] - 0s 32ms/step - loss: 536.2908 - val_loss: 2154.1201\n",
            "Epoch 88/100\n",
            "2/2 [==============================] - 0s 31ms/step - loss: 535.9679 - val_loss: 2105.6606\n",
            "Epoch 89/100\n",
            "2/2 [==============================] - 0s 38ms/step - loss: 532.3419 - val_loss: 2090.5266\n",
            "Epoch 90/100\n",
            "2/2 [==============================] - 0s 30ms/step - loss: 527.5708 - val_loss: 2094.1028\n",
            "Epoch 91/100\n",
            "2/2 [==============================] - 0s 30ms/step - loss: 525.1923 - val_loss: 2109.0940\n",
            "Epoch 92/100\n",
            "2/2 [==============================] - 0s 29ms/step - loss: 551.1960 - val_loss: 2096.4360\n",
            "Epoch 93/100\n",
            "2/2 [==============================] - 0s 28ms/step - loss: 529.4351 - val_loss: 2146.6221\n",
            "Epoch 94/100\n",
            "2/2 [==============================] - 0s 28ms/step - loss: 539.0827 - val_loss: 2096.1675\n",
            "Epoch 95/100\n",
            "2/2 [==============================] - 0s 33ms/step - loss: 525.1577 - val_loss: 2139.3767\n",
            "Epoch 96/100\n",
            "2/2 [==============================] - 0s 29ms/step - loss: 536.8505 - val_loss: 2086.2004\n",
            "Epoch 97/100\n",
            "2/2 [==============================] - 0s 31ms/step - loss: 540.0154 - val_loss: 2132.9558\n",
            "Epoch 98/100\n",
            "2/2 [==============================] - 0s 29ms/step - loss: 530.5341 - val_loss: 2134.6929\n",
            "Epoch 99/100\n",
            "2/2 [==============================] - 0s 30ms/step - loss: 536.5649 - val_loss: 2137.6677\n",
            "Epoch 100/100\n",
            "2/2 [==============================] - 0s 28ms/step - loss: 531.9820 - val_loss: 2086.5896\n"
          ]
        },
        {
          "output_type": "execute_result",
          "data": {
            "text/plain": [
              "<keras.callbacks.History at 0x7f1dc5a2b0a0>"
            ]
          },
          "metadata": {},
          "execution_count": 23
        }
      ]
    },
    {
      "cell_type": "code",
      "source": [
        "model.summary()"
      ],
      "metadata": {
        "colab": {
          "base_uri": "https://localhost:8080/"
        },
        "id": "HdShRzjJO8WB",
        "outputId": "9d325928-ec20-4cc9-8282-676609028c70"
      },
      "execution_count": 24,
      "outputs": [
        {
          "output_type": "stream",
          "name": "stdout",
          "text": [
            "Model: \"sequential\"\n",
            "_________________________________________________________________\n",
            " Layer (type)                Output Shape              Param #   \n",
            "=================================================================\n",
            " simple_rnn (SimpleRNN)      (None, 5)                 40        \n",
            "                                                                 \n",
            " dense (Dense)               (None, 3)                 18        \n",
            "                                                                 \n",
            " dense_1 (Dense)             (None, 1)                 4         \n",
            "                                                                 \n",
            "=================================================================\n",
            "Total params: 62\n",
            "Trainable params: 62\n",
            "Non-trainable params: 0\n",
            "_________________________________________________________________\n"
          ]
        }
      ]
    },
    {
      "cell_type": "code",
      "source": [
        "# Prediction\n",
        "\n",
        "finalX, finalY = create_data(data, timeperiod=3)"
      ],
      "metadata": {
        "id": "ZxE4-lEeO8ZE"
      },
      "execution_count": 25,
      "outputs": []
    },
    {
      "cell_type": "code",
      "source": [
        "preds = model.predict(np.array(finalX).reshape(-1,1,2))"
      ],
      "metadata": {
        "colab": {
          "base_uri": "https://localhost:8080/"
        },
        "id": "RJtE0T2RO8dd",
        "outputId": "9ab78a3c-363b-44de-b0f6-249132b1a66a"
      },
      "execution_count": 26,
      "outputs": [
        {
          "output_type": "stream",
          "name": "stdout",
          "text": [
            "5/5 [==============================] - 0s 2ms/step\n"
          ]
        }
      ]
    },
    {
      "cell_type": "code",
      "source": [
        "import matplotlib.pyplot as plt\n",
        "%matplotlib inline"
      ],
      "metadata": {
        "id": "-0mGkM0tQ_rm"
      },
      "execution_count": 27,
      "outputs": []
    },
    {
      "cell_type": "code",
      "source": [
        "plt.plot(data)\n",
        "plt.plot(preds)\n",
        "plt.legend([\"Actuals\", \"Predicted\"])\n",
        "plt.grid()\n",
        "plt.show()"
      ],
      "metadata": {
        "colab": {
          "base_uri": "https://localhost:8080/",
          "height": 430
        },
        "id": "j-ZN3XQWQ_71",
        "outputId": "47e1ccfe-2479-4e02-b718-ac4021d1fa01"
      },
      "execution_count": 28,
      "outputs": [
        {
          "output_type": "display_data",
          "data": {
            "text/plain": [
              "<Figure size 640x480 with 1 Axes>"
            ],
            "image/png": "[encoded data removed]"
          },
          "metadata": {}
        }
      ]
    },
    {
      "cell_type": "code",
      "source": [],
      "metadata": {
        "id": "ZGO-m8FBRAJy"
      },
      "execution_count": null,
      "outputs": []
    },
    {
      "cell_type": "code",
      "source": [],
      "metadata": {
        "id": "yooz9NkORAZv"
      },
      "execution_count": null,
      "outputs": []
    }
  ]
}