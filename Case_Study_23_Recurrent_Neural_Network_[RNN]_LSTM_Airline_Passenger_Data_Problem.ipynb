{
  "nbformat": 4,
  "nbformat_minor": 0,
  "metadata": {
    "colab": {
      "provenance": []
    },
    "kernelspec": {
      "name": "python3",
      "display_name": "Python 3"
    },
    "language_info": {
      "name": "python"
    }
  },
  "cells": [
    {
      "cell_type": "code",
      "execution_count": 22,
      "metadata": {
        "id": "ekD0P0RFUQyq"
      },
      "outputs": [],
      "source": [
        "import pandas as pd\n",
        "import numpy as np"
      ]
    },
    {
      "cell_type": "code",
      "source": [
        "data = pd.read_csv(\"airline-passengers.csv\")"
      ],
      "metadata": {
        "id": "9x82ILhTUimn"
      },
      "execution_count": 23,
      "outputs": []
    },
    {
      "cell_type": "code",
      "source": [
        "data = data[\"Passengers\"].values"
      ],
      "metadata": {
        "id": "xfdsMqxyUisk"
      },
      "execution_count": 24,
      "outputs": []
    },
    {
      "cell_type": "code",
      "source": [
        "data"
      ],
      "metadata": {
        "colab": {
          "base_uri": "https://localhost:8080/"
        },
        "id": "Y1TucE8aUivP",
        "outputId": "8dce11f0-815b-4281-e75c-1ef71922d437"
      },
      "execution_count": 25,
      "outputs": [
        {
          "output_type": "execute_result",
          "data": {
            "text/plain": [
              "array([112, 118, 132, 129, 121, 135, 148, 148, 136, 119, 104, 118, 115,\n",
              "       126, 141, 135, 125, 149, 170, 170, 158, 133, 114, 140, 145, 150,\n",
              "       178, 163, 172, 178, 199, 199, 184, 162, 146, 166, 171, 180, 193,\n",
              "       181, 183, 218, 230, 242, 209, 191, 172, 194, 196, 196, 236, 235,\n",
              "       229, 243, 264, 272, 237, 211, 180, 201, 204, 188, 235, 227, 234,\n",
              "       264, 302, 293, 259, 229, 203, 229, 242, 233, 267, 269, 270, 315,\n",
              "       364, 347, 312, 274, 237, 278, 284, 277, 317, 313, 318, 374, 413,\n",
              "       405, 355, 306, 271, 306, 315, 301, 356, 348, 355, 422, 465, 467,\n",
              "       404, 347, 305, 336, 340, 318, 362, 348, 363, 435, 491, 505, 404,\n",
              "       359, 310, 337, 360, 342, 406, 396, 420, 472, 548, 559, 463, 407,\n",
              "       362, 405, 417, 391, 419, 461, 472, 535, 622, 606, 508, 461, 390,\n",
              "       432])"
            ]
          },
          "metadata": {},
          "execution_count": 25
        }
      ]
    },
    {
      "cell_type": "code",
      "source": [
        "# Prepare the data"
      ],
      "metadata": {
        "id": "ON_E3p-FUi2w"
      },
      "execution_count": null,
      "outputs": []
    },
    {
      "cell_type": "code",
      "source": [
        "def create_data(data, timeperiod):\n",
        "    X = []\n",
        "    y = []\n",
        "    for i in range(len(data)-timeperiod-1):\n",
        "        X.append(data[i:(i+timeperiod)-1])\n",
        "        y.append(data[(i+timeperiod)-1])\n",
        "    return X, y"
      ],
      "metadata": {
        "id": "yF7l-4E0Ui6q"
      },
      "execution_count": 26,
      "outputs": []
    },
    {
      "cell_type": "code",
      "source": [
        "X, y = create_data(data = data, timeperiod=3)"
      ],
      "metadata": {
        "id": "FivcSfcZUi-K"
      },
      "execution_count": 27,
      "outputs": []
    },
    {
      "cell_type": "code",
      "source": [
        "X"
      ],
      "metadata": {
        "colab": {
          "base_uri": "https://localhost:8080/"
        },
        "id": "a4OYP7skUjBy",
        "outputId": "079d78bd-b7d5-4132-d133-b52e738fffa2"
      },
      "execution_count": 28,
      "outputs": [
        {
          "output_type": "execute_result",
          "data": {
            "text/plain": [
              "[array([112, 118]),\n",
              " array([118, 132]),\n",
              " array([132, 129]),\n",
              " array([129, 121]),\n",
              " array([121, 135]),\n",
              " array([135, 148]),\n",
              " array([148, 148]),\n",
              " array([148, 136]),\n",
              " array([136, 119]),\n",
              " array([119, 104]),\n",
              " array([104, 118]),\n",
              " array([118, 115]),\n",
              " array([115, 126]),\n",
              " array([126, 141]),\n",
              " array([141, 135]),\n",
              " array([135, 125]),\n",
              " array([125, 149]),\n",
              " array([149, 170]),\n",
              " array([170, 170]),\n",
              " array([170, 158]),\n",
              " array([158, 133]),\n",
              " array([133, 114]),\n",
              " array([114, 140]),\n",
              " array([140, 145]),\n",
              " array([145, 150]),\n",
              " array([150, 178]),\n",
              " array([178, 163]),\n",
              " array([163, 172]),\n",
              " array([172, 178]),\n",
              " array([178, 199]),\n",
              " array([199, 199]),\n",
              " array([199, 184]),\n",
              " array([184, 162]),\n",
              " array([162, 146]),\n",
              " array([146, 166]),\n",
              " array([166, 171]),\n",
              " array([171, 180]),\n",
              " array([180, 193]),\n",
              " array([193, 181]),\n",
              " array([181, 183]),\n",
              " array([183, 218]),\n",
              " array([218, 230]),\n",
              " array([230, 242]),\n",
              " array([242, 209]),\n",
              " array([209, 191]),\n",
              " array([191, 172]),\n",
              " array([172, 194]),\n",
              " array([194, 196]),\n",
              " array([196, 196]),\n",
              " array([196, 236]),\n",
              " array([236, 235]),\n",
              " array([235, 229]),\n",
              " array([229, 243]),\n",
              " array([243, 264]),\n",
              " array([264, 272]),\n",
              " array([272, 237]),\n",
              " array([237, 211]),\n",
              " array([211, 180]),\n",
              " array([180, 201]),\n",
              " array([201, 204]),\n",
              " array([204, 188]),\n",
              " array([188, 235]),\n",
              " array([235, 227]),\n",
              " array([227, 234]),\n",
              " array([234, 264]),\n",
              " array([264, 302]),\n",
              " array([302, 293]),\n",
              " array([293, 259]),\n",
              " array([259, 229]),\n",
              " array([229, 203]),\n",
              " array([203, 229]),\n",
              " array([229, 242]),\n",
              " array([242, 233]),\n",
              " array([233, 267]),\n",
              " array([267, 269]),\n",
              " array([269, 270]),\n",
              " array([270, 315]),\n",
              " array([315, 364]),\n",
              " array([364, 347]),\n",
              " array([347, 312]),\n",
              " array([312, 274]),\n",
              " array([274, 237]),\n",
              " array([237, 278]),\n",
              " array([278, 284]),\n",
              " array([284, 277]),\n",
              " array([277, 317]),\n",
              " array([317, 313]),\n",
              " array([313, 318]),\n",
              " array([318, 374]),\n",
              " array([374, 413]),\n",
              " array([413, 405]),\n",
              " array([405, 355]),\n",
              " array([355, 306]),\n",
              " array([306, 271]),\n",
              " array([271, 306]),\n",
              " array([306, 315]),\n",
              " array([315, 301]),\n",
              " array([301, 356]),\n",
              " array([356, 348]),\n",
              " array([348, 355]),\n",
              " array([355, 422]),\n",
              " array([422, 465]),\n",
              " array([465, 467]),\n",
              " array([467, 404]),\n",
              " array([404, 347]),\n",
              " array([347, 305]),\n",
              " array([305, 336]),\n",
              " array([336, 340]),\n",
              " array([340, 318]),\n",
              " array([318, 362]),\n",
              " array([362, 348]),\n",
              " array([348, 363]),\n",
              " array([363, 435]),\n",
              " array([435, 491]),\n",
              " array([491, 505]),\n",
              " array([505, 404]),\n",
              " array([404, 359]),\n",
              " array([359, 310]),\n",
              " array([310, 337]),\n",
              " array([337, 360]),\n",
              " array([360, 342]),\n",
              " array([342, 406]),\n",
              " array([406, 396]),\n",
              " array([396, 420]),\n",
              " array([420, 472]),\n",
              " array([472, 548]),\n",
              " array([548, 559]),\n",
              " array([559, 463]),\n",
              " array([463, 407]),\n",
              " array([407, 362]),\n",
              " array([362, 405]),\n",
              " array([405, 417]),\n",
              " array([417, 391]),\n",
              " array([391, 419]),\n",
              " array([419, 461]),\n",
              " array([461, 472]),\n",
              " array([472, 535]),\n",
              " array([535, 622]),\n",
              " array([622, 606]),\n",
              " array([606, 508])]"
            ]
          },
          "metadata": {},
          "execution_count": 28
        }
      ]
    },
    {
      "cell_type": "code",
      "source": [
        "y"
      ],
      "metadata": {
        "colab": {
          "base_uri": "https://localhost:8080/"
        },
        "id": "G64c1MiAUjFP",
        "outputId": "50ed19af-dbf6-48cc-c550-09168c0c05e6"
      },
      "execution_count": 29,
      "outputs": [
        {
          "output_type": "execute_result",
          "data": {
            "text/plain": [
              "[132,\n",
              " 129,\n",
              " 121,\n",
              " 135,\n",
              " 148,\n",
              " 148,\n",
              " 136,\n",
              " 119,\n",
              " 104,\n",
              " 118,\n",
              " 115,\n",
              " 126,\n",
              " 141,\n",
              " 135,\n",
              " 125,\n",
              " 149,\n",
              " 170,\n",
              " 170,\n",
              " 158,\n",
              " 133,\n",
              " 114,\n",
              " 140,\n",
              " 145,\n",
              " 150,\n",
              " 178,\n",
              " 163,\n",
              " 172,\n",
              " 178,\n",
              " 199,\n",
              " 199,\n",
              " 184,\n",
              " 162,\n",
              " 146,\n",
              " 166,\n",
              " 171,\n",
              " 180,\n",
              " 193,\n",
              " 181,\n",
              " 183,\n",
              " 218,\n",
              " 230,\n",
              " 242,\n",
              " 209,\n",
              " 191,\n",
              " 172,\n",
              " 194,\n",
              " 196,\n",
              " 196,\n",
              " 236,\n",
              " 235,\n",
              " 229,\n",
              " 243,\n",
              " 264,\n",
              " 272,\n",
              " 237,\n",
              " 211,\n",
              " 180,\n",
              " 201,\n",
              " 204,\n",
              " 188,\n",
              " 235,\n",
              " 227,\n",
              " 234,\n",
              " 264,\n",
              " 302,\n",
              " 293,\n",
              " 259,\n",
              " 229,\n",
              " 203,\n",
              " 229,\n",
              " 242,\n",
              " 233,\n",
              " 267,\n",
              " 269,\n",
              " 270,\n",
              " 315,\n",
              " 364,\n",
              " 347,\n",
              " 312,\n",
              " 274,\n",
              " 237,\n",
              " 278,\n",
              " 284,\n",
              " 277,\n",
              " 317,\n",
              " 313,\n",
              " 318,\n",
              " 374,\n",
              " 413,\n",
              " 405,\n",
              " 355,\n",
              " 306,\n",
              " 271,\n",
              " 306,\n",
              " 315,\n",
              " 301,\n",
              " 356,\n",
              " 348,\n",
              " 355,\n",
              " 422,\n",
              " 465,\n",
              " 467,\n",
              " 404,\n",
              " 347,\n",
              " 305,\n",
              " 336,\n",
              " 340,\n",
              " 318,\n",
              " 362,\n",
              " 348,\n",
              " 363,\n",
              " 435,\n",
              " 491,\n",
              " 505,\n",
              " 404,\n",
              " 359,\n",
              " 310,\n",
              " 337,\n",
              " 360,\n",
              " 342,\n",
              " 406,\n",
              " 396,\n",
              " 420,\n",
              " 472,\n",
              " 548,\n",
              " 559,\n",
              " 463,\n",
              " 407,\n",
              " 362,\n",
              " 405,\n",
              " 417,\n",
              " 391,\n",
              " 419,\n",
              " 461,\n",
              " 472,\n",
              " 535,\n",
              " 622,\n",
              " 606,\n",
              " 508,\n",
              " 461]"
            ]
          },
          "metadata": {},
          "execution_count": 29
        }
      ]
    },
    {
      "cell_type": "code",
      "source": [
        "X = np.array(X)\n",
        "y = np.array(y)"
      ],
      "metadata": {
        "id": "t1XxPTTPUjIs"
      },
      "execution_count": 30,
      "outputs": []
    },
    {
      "cell_type": "code",
      "source": [
        "# Train Test Split"
      ],
      "metadata": {
        "id": "wd-QOJ8RUjLv"
      },
      "execution_count": null,
      "outputs": []
    },
    {
      "cell_type": "code",
      "source": [
        "train_size = 0.7\n",
        "cut = round(train_size*len(X))\n",
        "\n",
        "trainX = X[:cut].reshape(-1,1,2)\n",
        "testX = X[cut:].reshape(-1,1,2)\n",
        "\n",
        "trainy = y[:cut]\n",
        "testy = y[cut:]"
      ],
      "metadata": {
        "id": "-V6X3RyXUjOh"
      },
      "execution_count": 31,
      "outputs": []
    },
    {
      "cell_type": "code",
      "source": [
        "print(trainX.shape)\n",
        "print(trainy.shape)\n",
        "print(testX.shape)\n",
        "print(testy.shape)"
      ],
      "metadata": {
        "colab": {
          "base_uri": "https://localhost:8080/"
        },
        "id": "yBECBQM8UjRb",
        "outputId": "30459b2f-2e30-4a88-c268-41e8817f139d"
      },
      "execution_count": 32,
      "outputs": [
        {
          "output_type": "stream",
          "name": "stdout",
          "text": [
            "(98, 1, 2)\n",
            "(98,)\n",
            "(42, 1, 2)\n",
            "(42,)\n"
          ]
        }
      ]
    },
    {
      "cell_type": "code",
      "source": [
        "testy.shape"
      ],
      "metadata": {
        "colab": {
          "base_uri": "https://localhost:8080/"
        },
        "id": "6sShUsa3UjUO",
        "outputId": "10a2de19-1b5a-4d6b-a26a-cd6bea49e549"
      },
      "execution_count": 33,
      "outputs": [
        {
          "output_type": "execute_result",
          "data": {
            "text/plain": [
              "(42,)"
            ]
          },
          "metadata": {},
          "execution_count": 33
        }
      ]
    },
    {
      "cell_type": "code",
      "source": [
        "# Model Building"
      ],
      "metadata": {
        "id": "iY91_FoZUjZz"
      },
      "execution_count": null,
      "outputs": []
    },
    {
      "cell_type": "code",
      "source": [
        "from tensorflow.keras.models import Sequential\n",
        "from tensorflow.keras.layers import LSTM, Dense\n",
        "from tensorflow.keras.optimizers import Adam"
      ],
      "metadata": {
        "id": "r7Ga82vsUjdb"
      },
      "execution_count": 34,
      "outputs": []
    },
    {
      "cell_type": "code",
      "source": [
        "model = Sequential()\n",
        "model.add(LSTM(5, activation=\"relu\", input_shape=(1,2)))\n",
        "model.add(Dense(3, \"relu\")) # Output layer\n",
        "model.add(Dense(1)) # Output layer"
      ],
      "metadata": {
        "id": "yMhuu-MyUjgz"
      },
      "execution_count": 35,
      "outputs": []
    },
    {
      "cell_type": "code",
      "source": [
        "model.compile(optimizer = Adam(learning_rate=0.1), loss=\"mean_squared_error\")"
      ],
      "metadata": {
        "id": "Y0IoNV_ZUjkw"
      },
      "execution_count": 36,
      "outputs": []
    },
    {
      "cell_type": "code",
      "source": [
        "model.fit(x=trainX, y= trainy, epochs = 100, batch_size=50, validation_data=(testX, testy))"
      ],
      "metadata": {
        "colab": {
          "base_uri": "https://localhost:8080/"
        },
        "id": "crsvDIm_UjoY",
        "outputId": "4e4f3958-a36d-4573-a165-aab2bd1fc11f"
      },
      "execution_count": 37,
      "outputs": [
        {
          "output_type": "stream",
          "name": "stdout",
          "text": [
            "Epoch 1/100\n",
            "2/2 [==============================] - 2s 302ms/step - loss: 53928.0508 - val_loss: 183630.2812\n",
            "Epoch 2/100\n",
            "2/2 [==============================] - 0s 36ms/step - loss: 53840.0195 - val_loss: 183462.0000\n",
            "Epoch 3/100\n",
            "2/2 [==============================] - 0s 47ms/step - loss: 53750.5312 - val_loss: 183293.9219\n",
            "Epoch 4/100\n",
            "2/2 [==============================] - 0s 54ms/step - loss: 53663.8047 - val_loss: 183125.6875\n",
            "Epoch 5/100\n",
            "2/2 [==============================] - 0s 65ms/step - loss: 53574.7461 - val_loss: 182957.7344\n",
            "Epoch 6/100\n",
            "2/2 [==============================] - 0s 37ms/step - loss: 53487.8359 - val_loss: 182789.6719\n",
            "Epoch 7/100\n",
            "2/2 [==============================] - 0s 39ms/step - loss: 53402.1172 - val_loss: 182621.4531\n",
            "Epoch 8/100\n",
            "2/2 [==============================] - 0s 39ms/step - loss: 53312.1719 - val_loss: 182453.9219\n",
            "Epoch 9/100\n",
            "2/2 [==============================] - 0s 45ms/step - loss: 53224.5391 - val_loss: 182286.5000\n",
            "Epoch 10/100\n",
            "2/2 [==============================] - 0s 41ms/step - loss: 53136.6445 - val_loss: 182119.2812\n",
            "Epoch 11/100\n",
            "2/2 [==============================] - 0s 55ms/step - loss: 53053.1641 - val_loss: 181951.3750\n",
            "Epoch 12/100\n",
            "2/2 [==============================] - 0s 58ms/step - loss: 52963.2344 - val_loss: 181784.3750\n",
            "Epoch 13/100\n",
            "2/2 [==============================] - 0s 43ms/step - loss: 52876.8672 - val_loss: 181617.3281\n",
            "Epoch 14/100\n",
            "2/2 [==============================] - 0s 41ms/step - loss: 52791.1562 - val_loss: 181450.1719\n",
            "Epoch 15/100\n",
            "2/2 [==============================] - 0s 38ms/step - loss: 52703.1719 - val_loss: 181283.4688\n",
            "Epoch 16/100\n",
            "2/2 [==============================] - 0s 35ms/step - loss: 52615.5039 - val_loss: 181117.1406\n",
            "Epoch 17/100\n",
            "2/2 [==============================] - 0s 35ms/step - loss: 52529.8867 - val_loss: 180950.6875\n",
            "Epoch 18/100\n",
            "2/2 [==============================] - 0s 37ms/step - loss: 52445.2852 - val_loss: 180783.9219\n",
            "Epoch 19/100\n",
            "2/2 [==============================] - 0s 35ms/step - loss: 52357.2773 - val_loss: 180617.7812\n",
            "Epoch 20/100\n",
            "2/2 [==============================] - 0s 36ms/step - loss: 52269.8984 - val_loss: 180452.1406\n",
            "Epoch 21/100\n",
            "2/2 [==============================] - 0s 42ms/step - loss: 52185.7109 - val_loss: 180286.0625\n",
            "Epoch 22/100\n",
            "2/2 [==============================] - 0s 49ms/step - loss: 52098.9883 - val_loss: 180120.3281\n",
            "Epoch 23/100\n",
            "2/2 [==============================] - 0s 56ms/step - loss: 52013.0625 - val_loss: 179954.7656\n",
            "Epoch 24/100\n",
            "2/2 [==============================] - 0s 38ms/step - loss: 51928.5664 - val_loss: 179789.0000\n",
            "Epoch 25/100\n",
            "2/2 [==============================] - 0s 39ms/step - loss: 51842.0938 - val_loss: 179623.6562\n",
            "Epoch 26/100\n",
            "2/2 [==============================] - 0s 44ms/step - loss: 51756.7461 - val_loss: 179458.4219\n",
            "Epoch 27/100\n",
            "2/2 [==============================] - 0s 39ms/step - loss: 51671.3125 - val_loss: 179293.3750\n",
            "Epoch 28/100\n",
            "2/2 [==============================] - 0s 39ms/step - loss: 51584.7852 - val_loss: 179128.8438\n",
            "Epoch 29/100\n",
            "2/2 [==============================] - 0s 40ms/step - loss: 51501.5703 - val_loss: 178963.8438\n",
            "Epoch 30/100\n",
            "2/2 [==============================] - 0s 39ms/step - loss: 51414.8867 - val_loss: 178799.5000\n",
            "Epoch 31/100\n",
            "2/2 [==============================] - 0s 38ms/step - loss: 51330.4688 - val_loss: 178635.1562\n",
            "Epoch 32/100\n",
            "2/2 [==============================] - 0s 37ms/step - loss: 51244.6445 - val_loss: 178471.2188\n",
            "Epoch 33/100\n",
            "2/2 [==============================] - 0s 37ms/step - loss: 51161.1133 - val_loss: 178307.0156\n",
            "Epoch 34/100\n",
            "2/2 [==============================] - 0s 38ms/step - loss: 51076.4492 - val_loss: 178143.0000\n",
            "Epoch 35/100\n",
            "2/2 [==============================] - 0s 37ms/step - loss: 50992.0039 - val_loss: 177979.1250\n",
            "Epoch 36/100\n",
            "2/2 [==============================] - 0s 35ms/step - loss: 50908.0391 - val_loss: 177815.2656\n",
            "Epoch 37/100\n",
            "2/2 [==============================] - 0s 36ms/step - loss: 50824.3555 - val_loss: 177651.4062\n",
            "Epoch 38/100\n",
            "2/2 [==============================] - 0s 37ms/step - loss: 50739.8867 - val_loss: 177487.8438\n",
            "Epoch 39/100\n",
            "2/2 [==============================] - 0s 36ms/step - loss: 50653.9297 - val_loss: 177325.0781\n",
            "Epoch 40/100\n",
            "2/2 [==============================] - 0s 34ms/step - loss: 50571.8359 - val_loss: 177161.8125\n",
            "Epoch 41/100\n",
            "2/2 [==============================] - 0s 36ms/step - loss: 50487.0625 - val_loss: 176999.0781\n",
            "Epoch 42/100\n",
            "2/2 [==============================] - 0s 49ms/step - loss: 50403.0117 - val_loss: 176836.5625\n",
            "Epoch 43/100\n",
            "2/2 [==============================] - 0s 40ms/step - loss: 50320.9609 - val_loss: 176673.6719\n",
            "Epoch 44/100\n",
            "2/2 [==============================] - 0s 39ms/step - loss: 50236.7539 - val_loss: 176511.2188\n",
            "Epoch 45/100\n",
            "2/2 [==============================] - 0s 44ms/step - loss: 50153.7852 - val_loss: 176348.7969\n",
            "Epoch 46/100\n",
            "2/2 [==============================] - 0s 48ms/step - loss: 50070.4531 - val_loss: 176186.5781\n",
            "Epoch 47/100\n",
            "2/2 [==============================] - 0s 38ms/step - loss: 49986.4141 - val_loss: 176024.7812\n",
            "Epoch 48/100\n",
            "2/2 [==============================] - 0s 39ms/step - loss: 49904.3789 - val_loss: 175862.8438\n",
            "Epoch 49/100\n",
            "2/2 [==============================] - 0s 46ms/step - loss: 49820.6719 - val_loss: 175701.2969\n",
            "Epoch 50/100\n",
            "2/2 [==============================] - 0s 36ms/step - loss: 49738.2852 - val_loss: 175539.7344\n",
            "Epoch 51/100\n",
            "2/2 [==============================] - 0s 56ms/step - loss: 49657.4727 - val_loss: 175377.7656\n",
            "Epoch 52/100\n",
            "2/2 [==============================] - 0s 37ms/step - loss: 49572.8633 - val_loss: 175216.6562\n",
            "Epoch 53/100\n",
            "2/2 [==============================] - 0s 38ms/step - loss: 49490.7773 - val_loss: 175055.5781\n",
            "Epoch 54/100\n",
            "2/2 [==============================] - 0s 38ms/step - loss: 49409.7109 - val_loss: 174894.2500\n",
            "Epoch 55/100\n",
            "2/2 [==============================] - 0s 37ms/step - loss: 49326.7891 - val_loss: 174733.3750\n",
            "Epoch 56/100\n",
            "2/2 [==============================] - 0s 59ms/step - loss: 49244.5703 - val_loss: 174572.7188\n",
            "Epoch 57/100\n",
            "2/2 [==============================] - 0s 37ms/step - loss: 49161.1562 - val_loss: 174412.6562\n",
            "Epoch 58/100\n",
            "2/2 [==============================] - 0s 37ms/step - loss: 49080.7617 - val_loss: 174252.2344\n",
            "Epoch 59/100\n",
            "2/2 [==============================] - 0s 39ms/step - loss: 48998.5508 - val_loss: 174092.1406\n",
            "Epoch 60/100\n",
            "2/2 [==============================] - 0s 48ms/step - loss: 48917.4375 - val_loss: 173932.0000\n",
            "Epoch 61/100\n",
            "2/2 [==============================] - 0s 38ms/step - loss: 48837.0820 - val_loss: 173771.6250\n",
            "Epoch 62/100\n",
            "2/2 [==============================] - 0s 43ms/step - loss: 48754.5391 - val_loss: 173611.8750\n",
            "Epoch 63/100\n",
            "2/2 [==============================] - 0s 36ms/step - loss: 48672.5820 - val_loss: 173452.4688\n",
            "Epoch 64/100\n",
            "2/2 [==============================] - 0s 44ms/step - loss: 48591.9219 - val_loss: 173293.0469\n",
            "Epoch 65/100\n",
            "2/2 [==============================] - 0s 51ms/step - loss: 48511.7773 - val_loss: 173133.4844\n",
            "Epoch 66/100\n",
            "2/2 [==============================] - 0s 37ms/step - loss: 48431.2148 - val_loss: 172973.9688\n",
            "Epoch 67/100\n",
            "2/2 [==============================] - 0s 38ms/step - loss: 48348.7969 - val_loss: 172815.1875\n",
            "Epoch 68/100\n",
            "2/2 [==============================] - 0s 38ms/step - loss: 48268.5312 - val_loss: 172656.4062\n",
            "Epoch 69/100\n",
            "2/2 [==============================] - 0s 40ms/step - loss: 48187.4688 - val_loss: 172497.9375\n",
            "Epoch 70/100\n",
            "2/2 [==============================] - 0s 42ms/step - loss: 48106.6641 - val_loss: 172339.6875\n",
            "Epoch 71/100\n",
            "2/2 [==============================] - 0s 42ms/step - loss: 48027.1719 - val_loss: 172181.2500\n",
            "Epoch 72/100\n",
            "2/2 [==============================] - 0s 53ms/step - loss: 47948.8555 - val_loss: 172022.3281\n",
            "Epoch 73/100\n",
            "2/2 [==============================] - 0s 36ms/step - loss: 47866.0508 - val_loss: 171864.5469\n",
            "Epoch 74/100\n",
            "2/2 [==============================] - 0s 38ms/step - loss: 47785.5039 - val_loss: 171707.0312\n",
            "Epoch 75/100\n",
            "2/2 [==============================] - 0s 43ms/step - loss: 47706.9805 - val_loss: 171549.1719\n",
            "Epoch 76/100\n",
            "2/2 [==============================] - 0s 39ms/step - loss: 47627.0039 - val_loss: 171391.5156\n",
            "Epoch 77/100\n",
            "2/2 [==============================] - 0s 41ms/step - loss: 47548.0273 - val_loss: 171233.7188\n",
            "Epoch 78/100\n",
            "2/2 [==============================] - 0s 45ms/step - loss: 47468.3711 - val_loss: 171076.1406\n",
            "Epoch 79/100\n",
            "2/2 [==============================] - 0s 49ms/step - loss: 47388.8945 - val_loss: 170918.7500\n",
            "Epoch 80/100\n",
            "2/2 [==============================] - 0s 37ms/step - loss: 47310.1445 - val_loss: 170761.3125\n",
            "Epoch 81/100\n",
            "2/2 [==============================] - 0s 43ms/step - loss: 47229.4453 - val_loss: 170604.5938\n",
            "Epoch 82/100\n",
            "2/2 [==============================] - 0s 35ms/step - loss: 47149.7148 - val_loss: 170448.2188\n",
            "Epoch 83/100\n",
            "2/2 [==============================] - 0s 40ms/step - loss: 47071.5352 - val_loss: 170291.6406\n",
            "Epoch 84/100\n",
            "2/2 [==============================] - 0s 36ms/step - loss: 46992.4023 - val_loss: 170135.2812\n",
            "Epoch 85/100\n",
            "2/2 [==============================] - 0s 38ms/step - loss: 46912.2617 - val_loss: 169979.5469\n",
            "Epoch 86/100\n",
            "2/2 [==============================] - 0s 41ms/step - loss: 46835.3281 - val_loss: 169823.2812\n",
            "Epoch 87/100\n",
            "2/2 [==============================] - 0s 39ms/step - loss: 46756.0391 - val_loss: 169667.3594\n",
            "Epoch 88/100\n",
            "2/2 [==============================] - 0s 41ms/step - loss: 46679.0195 - val_loss: 169511.0781\n",
            "Epoch 89/100\n",
            "2/2 [==============================] - 0s 39ms/step - loss: 46601.0039 - val_loss: 169354.8438\n",
            "Epoch 90/100\n",
            "2/2 [==============================] - 0s 39ms/step - loss: 46521.3359 - val_loss: 169199.2969\n",
            "Epoch 91/100\n",
            "2/2 [==============================] - 0s 37ms/step - loss: 46444.3984 - val_loss: 169043.4688\n",
            "Epoch 92/100\n",
            "2/2 [==============================] - 0s 36ms/step - loss: 46365.3867 - val_loss: 168888.1719\n",
            "Epoch 93/100\n",
            "2/2 [==============================] - 0s 39ms/step - loss: 46288.0625 - val_loss: 168732.8281\n",
            "Epoch 94/100\n",
            "2/2 [==============================] - 0s 36ms/step - loss: 46209.4375 - val_loss: 168577.9219\n",
            "Epoch 95/100\n",
            "2/2 [==============================] - 0s 41ms/step - loss: 46132.5938 - val_loss: 168422.8750\n",
            "Epoch 96/100\n",
            "2/2 [==============================] - 0s 40ms/step - loss: 46054.1641 - val_loss: 168268.2812\n",
            "Epoch 97/100\n",
            "2/2 [==============================] - 0s 39ms/step - loss: 45976.6953 - val_loss: 168113.8438\n",
            "Epoch 98/100\n",
            "2/2 [==============================] - 0s 44ms/step - loss: 45899.8789 - val_loss: 167959.3281\n",
            "Epoch 99/100\n",
            "2/2 [==============================] - 0s 43ms/step - loss: 45822.4297 - val_loss: 167805.0625\n",
            "Epoch 100/100\n",
            "2/2 [==============================] - 0s 38ms/step - loss: 45745.1016 - val_loss: 167651.0000\n"
          ]
        },
        {
          "output_type": "execute_result",
          "data": {
            "text/plain": [
              "<keras.callbacks.History at 0x7fa162e29e40>"
            ]
          },
          "metadata": {},
          "execution_count": 37
        }
      ]
    },
    {
      "cell_type": "code",
      "source": [
        "model.summary()"
      ],
      "metadata": {
        "colab": {
          "base_uri": "https://localhost:8080/"
        },
        "id": "LHokvMCnUjsH",
        "outputId": "5eeecfb0-3342-4475-9b7a-22dc340ef391"
      },
      "execution_count": 38,
      "outputs": [
        {
          "output_type": "stream",
          "name": "stdout",
          "text": [
            "Model: \"sequential_1\"\n",
            "_________________________________________________________________\n",
            " Layer (type)                Output Shape              Param #   \n",
            "=================================================================\n",
            " lstm_1 (LSTM)               (None, 5)                 160       \n",
            "                                                                 \n",
            " dense_2 (Dense)             (None, 3)                 18        \n",
            "                                                                 \n",
            " dense_3 (Dense)             (None, 1)                 4         \n",
            "                                                                 \n",
            "=================================================================\n",
            "Total params: 182\n",
            "Trainable params: 182\n",
            "Non-trainable params: 0\n",
            "_________________________________________________________________\n"
          ]
        }
      ]
    },
    {
      "cell_type": "code",
      "source": [
        "finalX, finalY = create_data(data, timeperiod=3)"
      ],
      "metadata": {
        "id": "RLTc1IXDWSUt"
      },
      "execution_count": 39,
      "outputs": []
    },
    {
      "cell_type": "code",
      "source": [
        "preds = model.predict(np.array(finalX).reshape(-1,1,2))"
      ],
      "metadata": {
        "colab": {
          "base_uri": "https://localhost:8080/"
        },
        "id": "cdLiysBRWSmC",
        "outputId": "ef5a64eb-d416-4341-e7dc-f3bc41501b5a"
      },
      "execution_count": 40,
      "outputs": [
        {
          "output_type": "stream",
          "name": "stdout",
          "text": [
            "5/5 [==============================] - 0s 3ms/step\n"
          ]
        }
      ]
    },
    {
      "cell_type": "code",
      "source": [
        "import matplotlib.pyplot as plt\n",
        "%matplotlib inline"
      ],
      "metadata": {
        "id": "rDpxQKPwWSrx"
      },
      "execution_count": 41,
      "outputs": []
    },
    {
      "cell_type": "code",
      "source": [
        "plt.plot(data)\n",
        "plt.plot(preds)\n",
        "plt.legend([\"Actuals\", \"Predicted\"])\n",
        "plt.grid()\n",
        "plt.show()"
      ],
      "metadata": {
        "colab": {
          "base_uri": "https://localhost:8080/",
          "height": 430
        },
        "id": "1eSFudLsWS0f",
        "outputId": "9890230e-6f1d-4e7e-a11e-be65352648ef"
      },
      "execution_count": 42,
      "outputs": [
        {
          "output_type": "display_data",
          "data": {
            "text/plain": [
              "<Figure size 640x480 with 1 Axes>"
            ],
            "image/png": "[encoded data removed]"
          },
          "metadata": {}
        }
      ]
    },
    {
      "cell_type": "code",
      "source": [],
      "metadata": {
        "id": "405b0izcWS8G"
      },
      "execution_count": null,
      "outputs": []
    },
    {
      "cell_type": "code",
      "source": [],
      "metadata": {
        "id": "pipHmUyUWTMa"
      },
      "execution_count": null,
      "outputs": []
    },
    {
      "cell_type": "code",
      "source": [],
      "metadata": {
        "id": "emRxOUY6WTV8"
      },
      "execution_count": null,
      "outputs": []
    }
  ]
}