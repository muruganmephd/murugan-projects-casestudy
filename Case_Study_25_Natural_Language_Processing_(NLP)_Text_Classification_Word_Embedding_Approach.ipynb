{
  "nbformat": 4,
  "nbformat_minor": 0,
  "metadata": {
    "colab": {
      "provenance": []
    },
    "kernelspec": {
      "name": "python3",
      "display_name": "Python 3"
    },
    "language_info": {
      "name": "python"
    }
  },
  "cells": [
    {
      "cell_type": "code",
      "execution_count": 1,
      "metadata": {
        "id": "1bjZn_Qc7xDY"
      },
      "outputs": [],
      "source": [
        "import gensim\n",
        "import gensim.downloader\n",
        "from sklearn.metrics.pairwise import cosine_similarity"
      ]
    },
    {
      "cell_type": "code",
      "source": [
        "gensim.downloader.info()[\"models\"]"
      ],
      "metadata": {
        "colab": {
          "base_uri": "https://localhost:8080/"
        },
        "id": "znLRN-5vo5hu",
        "outputId": "dd572fa0-cfeb-42ae-ad31-1592be115a90"
      },
      "execution_count": 2,
      "outputs": [
        {
          "output_type": "execute_result",
          "data": {
            "text/plain": [
              "{'fasttext-wiki-news-subwords-300': {'num_records': 999999,\n",
              "  'file_size': 1005007116,\n",
              "  'base_dataset': 'Wikipedia 2017, UMBC webbase corpus and statmt.org news dataset (16B tokens)',\n",
              "  'reader_code': 'https://github.com/RaRe-Technologies/gensim-data/releases/download/fasttext-wiki-news-subwords-300/__init__.py',\n",
              "  'license': 'https://creativecommons.org/licenses/by-sa/3.0/',\n",
              "  'parameters': {'dimension': 300},\n",
              "  'description': '1 million word vectors trained on Wikipedia 2017, UMBC webbase corpus and statmt.org news dataset (16B tokens).',\n",
              "  'read_more': ['https://fasttext.cc/docs/en/english-vectors.html',\n",
              "   'https://arxiv.org/abs/1712.09405',\n",
              "   'https://arxiv.org/abs/1607.01759'],\n",
              "  'checksum': 'de2bb3a20c46ce65c9c131e1ad9a77af',\n",
              "  'file_name': 'fasttext-wiki-news-subwords-300.gz',\n",
              "  'parts': 1},\n",
              " 'conceptnet-numberbatch-17-06-300': {'num_records': 1917247,\n",
              "  'file_size': 1225497562,\n",
              "  'base_dataset': 'ConceptNet, word2vec, GloVe, and OpenSubtitles 2016',\n",
              "  'reader_code': 'https://github.com/RaRe-Technologies/gensim-data/releases/download/conceptnet-numberbatch-17-06-300/__init__.py',\n",
              "  'license': 'https://github.com/commonsense/conceptnet-numberbatch/blob/master/LICENSE.txt',\n",
              "  'parameters': {'dimension': 300},\n",
              "  'description': 'ConceptNet Numberbatch consists of state-of-the-art semantic vectors (also known as word embeddings) that can be used directly as a representation of word meanings or as a starting point for further machine learning. ConceptNet Numberbatch is part of the ConceptNet open data project. ConceptNet provides lots of ways to compute with word meanings, one of which is word embeddings. ConceptNet Numberbatch is a snapshot of just the word embeddings. It is built using an ensemble that combines data from ConceptNet, word2vec, GloVe, and OpenSubtitles 2016, using a variation on retrofitting.',\n",
              "  'read_more': ['http://aaai.org/ocs/index.php/AAAI/AAAI17/paper/view/14972',\n",
              "   'https://github.com/commonsense/conceptnet-numberbatch',\n",
              "   'http://conceptnet.io/'],\n",
              "  'checksum': 'fd642d457adcd0ea94da0cd21b150847',\n",
              "  'file_name': 'conceptnet-numberbatch-17-06-300.gz',\n",
              "  'parts': 1},\n",
              " 'word2vec-ruscorpora-300': {'num_records': 184973,\n",
              "  'file_size': 208427381,\n",
              "  'base_dataset': 'Russian National Corpus (about 250M words)',\n",
              "  'reader_code': 'https://github.com/RaRe-Technologies/gensim-data/releases/download/word2vec-ruscorpora-300/__init__.py',\n",
              "  'license': 'https://creativecommons.org/licenses/by/4.0/deed.en',\n",
              "  'parameters': {'dimension': 300, 'window_size': 10},\n",
              "  'description': 'Word2vec Continuous Skipgram vectors trained on full Russian National Corpus (about 250M words). The model contains 185K words.',\n",
              "  'preprocessing': 'The corpus was lemmatized and tagged with Universal PoS',\n",
              "  'read_more': ['https://www.academia.edu/24306935/WebVectors_a_Toolkit_for_Building_Web_Interfaces_for_Vector_Semantic_Models',\n",
              "   'http://rusvectores.org/en/',\n",
              "   'https://github.com/RaRe-Technologies/gensim-data/issues/3'],\n",
              "  'checksum': '9bdebdc8ae6d17d20839dd9b5af10bc4',\n",
              "  'file_name': 'word2vec-ruscorpora-300.gz',\n",
              "  'parts': 1},\n",
              " 'word2vec-google-news-300': {'num_records': 3000000,\n",
              "  'file_size': 1743563840,\n",
              "  'base_dataset': 'Google News (about 100 billion words)',\n",
              "  'reader_code': 'https://github.com/RaRe-Technologies/gensim-data/releases/download/word2vec-google-news-300/__init__.py',\n",
              "  'license': 'not found',\n",
              "  'parameters': {'dimension': 300},\n",
              "  'description': \"Pre-trained vectors trained on a part of the Google News dataset (about 100 billion words). The model contains 300-dimensional vectors for 3 million words and phrases. The phrases were obtained using a simple data-driven approach described in 'Distributed Representations of Words and Phrases and their Compositionality' (https://code.google.com/archive/p/word2vec/).\",\n",
              "  'read_more': ['https://code.google.com/archive/p/word2vec/',\n",
              "   'https://arxiv.org/abs/1301.3781',\n",
              "   'https://arxiv.org/abs/1310.4546',\n",
              "   'https://www.microsoft.com/en-us/research/publication/linguistic-regularities-in-continuous-space-word-representations/?from=http%3A%2F%2Fresearch.microsoft.com%2Fpubs%2F189726%2Frvecs.pdf'],\n",
              "  'checksum': 'a5e5354d40acb95f9ec66d5977d140ef',\n",
              "  'file_name': 'word2vec-google-news-300.gz',\n",
              "  'parts': 1},\n",
              " 'glove-wiki-gigaword-50': {'num_records': 400000,\n",
              "  'file_size': 69182535,\n",
              "  'base_dataset': 'Wikipedia 2014 + Gigaword 5 (6B tokens, uncased)',\n",
              "  'reader_code': 'https://github.com/RaRe-Technologies/gensim-data/releases/download/glove-wiki-gigaword-50/__init__.py',\n",
              "  'license': 'http://opendatacommons.org/licenses/pddl/',\n",
              "  'parameters': {'dimension': 50},\n",
              "  'description': 'Pre-trained vectors based on Wikipedia 2014 + Gigaword, 5.6B tokens, 400K vocab, uncased (https://nlp.stanford.edu/projects/glove/).',\n",
              "  'preprocessing': 'Converted to w2v format with `python -m gensim.scripts.glove2word2vec -i <fname> -o glove-wiki-gigaword-50.txt`.',\n",
              "  'read_more': ['https://nlp.stanford.edu/projects/glove/',\n",
              "   'https://nlp.stanford.edu/pubs/glove.pdf'],\n",
              "  'checksum': 'c289bc5d7f2f02c6dc9f2f9b67641813',\n",
              "  'file_name': 'glove-wiki-gigaword-50.gz',\n",
              "  'parts': 1},\n",
              " 'glove-wiki-gigaword-100': {'num_records': 400000,\n",
              "  'file_size': 134300434,\n",
              "  'base_dataset': 'Wikipedia 2014 + Gigaword 5 (6B tokens, uncased)',\n",
              "  'reader_code': 'https://github.com/RaRe-Technologies/gensim-data/releases/download/glove-wiki-gigaword-100/__init__.py',\n",
              "  'license': 'http://opendatacommons.org/licenses/pddl/',\n",
              "  'parameters': {'dimension': 100},\n",
              "  'description': 'Pre-trained vectors based on Wikipedia 2014 + Gigaword 5.6B tokens, 400K vocab, uncased (https://nlp.stanford.edu/projects/glove/).',\n",
              "  'preprocessing': 'Converted to w2v format with `python -m gensim.scripts.glove2word2vec -i <fname> -o glove-wiki-gigaword-100.txt`.',\n",
              "  'read_more': ['https://nlp.stanford.edu/projects/glove/',\n",
              "   'https://nlp.stanford.edu/pubs/glove.pdf'],\n",
              "  'checksum': '40ec481866001177b8cd4cb0df92924f',\n",
              "  'file_name': 'glove-wiki-gigaword-100.gz',\n",
              "  'parts': 1},\n",
              " 'glove-wiki-gigaword-200': {'num_records': 400000,\n",
              "  'file_size': 264336934,\n",
              "  'base_dataset': 'Wikipedia 2014 + Gigaword 5 (6B tokens, uncased)',\n",
              "  'reader_code': 'https://github.com/RaRe-Technologies/gensim-data/releases/download/glove-wiki-gigaword-200/__init__.py',\n",
              "  'license': 'http://opendatacommons.org/licenses/pddl/',\n",
              "  'parameters': {'dimension': 200},\n",
              "  'description': 'Pre-trained vectors based on Wikipedia 2014 + Gigaword, 5.6B tokens, 400K vocab, uncased (https://nlp.stanford.edu/projects/glove/).',\n",
              "  'preprocessing': 'Converted to w2v format with `python -m gensim.scripts.glove2word2vec -i <fname> -o glove-wiki-gigaword-200.txt`.',\n",
              "  'read_more': ['https://nlp.stanford.edu/projects/glove/',\n",
              "   'https://nlp.stanford.edu/pubs/glove.pdf'],\n",
              "  'checksum': '59652db361b7a87ee73834a6c391dfc1',\n",
              "  'file_name': 'glove-wiki-gigaword-200.gz',\n",
              "  'parts': 1},\n",
              " 'glove-wiki-gigaword-300': {'num_records': 400000,\n",
              "  'file_size': 394362229,\n",
              "  'base_dataset': 'Wikipedia 2014 + Gigaword 5 (6B tokens, uncased)',\n",
              "  'reader_code': 'https://github.com/RaRe-Technologies/gensim-data/releases/download/glove-wiki-gigaword-300/__init__.py',\n",
              "  'license': 'http://opendatacommons.org/licenses/pddl/',\n",
              "  'parameters': {'dimension': 300},\n",
              "  'description': 'Pre-trained vectors based on Wikipedia 2014 + Gigaword, 5.6B tokens, 400K vocab, uncased (https://nlp.stanford.edu/projects/glove/).',\n",
              "  'preprocessing': 'Converted to w2v format with `python -m gensim.scripts.glove2word2vec -i <fname> -o glove-wiki-gigaword-300.txt`.',\n",
              "  'read_more': ['https://nlp.stanford.edu/projects/glove/',\n",
              "   'https://nlp.stanford.edu/pubs/glove.pdf'],\n",
              "  'checksum': '29e9329ac2241937d55b852e8284e89b',\n",
              "  'file_name': 'glove-wiki-gigaword-300.gz',\n",
              "  'parts': 1},\n",
              " 'glove-twitter-25': {'num_records': 1193514,\n",
              "  'file_size': 109885004,\n",
              "  'base_dataset': 'Twitter (2B tweets, 27B tokens, 1.2M vocab, uncased)',\n",
              "  'reader_code': 'https://github.com/RaRe-Technologies/gensim-data/releases/download/glove-twitter-25/__init__.py',\n",
              "  'license': 'http://opendatacommons.org/licenses/pddl/',\n",
              "  'parameters': {'dimension': 25},\n",
              "  'description': 'Pre-trained vectors based on 2B tweets, 27B tokens, 1.2M vocab, uncased (https://nlp.stanford.edu/projects/glove/).',\n",
              "  'preprocessing': 'Converted to w2v format with `python -m gensim.scripts.glove2word2vec -i <fname> -o glove-twitter-25.txt`.',\n",
              "  'read_more': ['https://nlp.stanford.edu/projects/glove/',\n",
              "   'https://nlp.stanford.edu/pubs/glove.pdf'],\n",
              "  'checksum': '50db0211d7e7a2dcd362c6b774762793',\n",
              "  'file_name': 'glove-twitter-25.gz',\n",
              "  'parts': 1},\n",
              " 'glove-twitter-50': {'num_records': 1193514,\n",
              "  'file_size': 209216938,\n",
              "  'base_dataset': 'Twitter (2B tweets, 27B tokens, 1.2M vocab, uncased)',\n",
              "  'reader_code': 'https://github.com/RaRe-Technologies/gensim-data/releases/download/glove-twitter-50/__init__.py',\n",
              "  'license': 'http://opendatacommons.org/licenses/pddl/',\n",
              "  'parameters': {'dimension': 50},\n",
              "  'description': 'Pre-trained vectors based on 2B tweets, 27B tokens, 1.2M vocab, uncased (https://nlp.stanford.edu/projects/glove/)',\n",
              "  'preprocessing': 'Converted to w2v format with `python -m gensim.scripts.glove2word2vec -i <fname> -o glove-twitter-50.txt`.',\n",
              "  'read_more': ['https://nlp.stanford.edu/projects/glove/',\n",
              "   'https://nlp.stanford.edu/pubs/glove.pdf'],\n",
              "  'checksum': 'c168f18641f8c8a00fe30984c4799b2b',\n",
              "  'file_name': 'glove-twitter-50.gz',\n",
              "  'parts': 1},\n",
              " 'glove-twitter-100': {'num_records': 1193514,\n",
              "  'file_size': 405932991,\n",
              "  'base_dataset': 'Twitter (2B tweets, 27B tokens, 1.2M vocab, uncased)',\n",
              "  'reader_code': 'https://github.com/RaRe-Technologies/gensim-data/releases/download/glove-twitter-100/__init__.py',\n",
              "  'license': 'http://opendatacommons.org/licenses/pddl/',\n",
              "  'parameters': {'dimension': 100},\n",
              "  'description': 'Pre-trained vectors based on  2B tweets, 27B tokens, 1.2M vocab, uncased (https://nlp.stanford.edu/projects/glove/)',\n",
              "  'preprocessing': 'Converted to w2v format with `python -m gensim.scripts.glove2word2vec -i <fname> -o glove-twitter-100.txt`.',\n",
              "  'read_more': ['https://nlp.stanford.edu/projects/glove/',\n",
              "   'https://nlp.stanford.edu/pubs/glove.pdf'],\n",
              "  'checksum': 'b04f7bed38756d64cf55b58ce7e97b15',\n",
              "  'file_name': 'glove-twitter-100.gz',\n",
              "  'parts': 1},\n",
              " 'glove-twitter-200': {'num_records': 1193514,\n",
              "  'file_size': 795373100,\n",
              "  'base_dataset': 'Twitter (2B tweets, 27B tokens, 1.2M vocab, uncased)',\n",
              "  'reader_code': 'https://github.com/RaRe-Technologies/gensim-data/releases/download/glove-twitter-200/__init__.py',\n",
              "  'license': 'http://opendatacommons.org/licenses/pddl/',\n",
              "  'parameters': {'dimension': 200},\n",
              "  'description': 'Pre-trained vectors based on 2B tweets, 27B tokens, 1.2M vocab, uncased (https://nlp.stanford.edu/projects/glove/).',\n",
              "  'preprocessing': 'Converted to w2v format with `python -m gensim.scripts.glove2word2vec -i <fname> -o glove-twitter-200.txt`.',\n",
              "  'read_more': ['https://nlp.stanford.edu/projects/glove/',\n",
              "   'https://nlp.stanford.edu/pubs/glove.pdf'],\n",
              "  'checksum': 'e52e8392d1860b95d5308a525817d8f9',\n",
              "  'file_name': 'glove-twitter-200.gz',\n",
              "  'parts': 1},\n",
              " '__testing_word2vec-matrix-synopsis': {'description': '[THIS IS ONLY FOR TESTING] Word vecrors of the movie matrix.',\n",
              "  'parameters': {'dimensions': 50},\n",
              "  'preprocessing': 'Converted to w2v using a preprocessed corpus. Converted to w2v format with `python3.5 -m gensim.models.word2vec -train <input_filename> -iter 50 -output <output_filename>`.',\n",
              "  'read_more': [],\n",
              "  'checksum': '534dcb8b56a360977a269b7bfc62d124',\n",
              "  'file_name': '__testing_word2vec-matrix-synopsis.gz',\n",
              "  'parts': 1}}"
            ]
          },
          "metadata": {},
          "execution_count": 2
        }
      ]
    },
    {
      "cell_type": "code",
      "source": [
        "gensim.downloader.info()[\"models\"].keys()"
      ],
      "metadata": {
        "colab": {
          "base_uri": "https://localhost:8080/"
        },
        "id": "VcOaCD7Po5lV",
        "outputId": "d398280b-d250-4e5d-e312-b3f90a9f071c"
      },
      "execution_count": 3,
      "outputs": [
        {
          "output_type": "execute_result",
          "data": {
            "text/plain": [
              "dict_keys(['fasttext-wiki-news-subwords-300', 'conceptnet-numberbatch-17-06-300', 'word2vec-ruscorpora-300', 'word2vec-google-news-300', 'glove-wiki-gigaword-50', 'glove-wiki-gigaword-100', 'glove-wiki-gigaword-200', 'glove-wiki-gigaword-300', 'glove-twitter-25', 'glove-twitter-50', 'glove-twitter-100', 'glove-twitter-200', '__testing_word2vec-matrix-synopsis'])"
            ]
          },
          "metadata": {},
          "execution_count": 3
        }
      ]
    },
    {
      "cell_type": "code",
      "source": [
        "word2vec_300 = gensim.downloader.load(\"word2vec-google-news-300\")"
      ],
      "metadata": {
        "colab": {
          "base_uri": "https://localhost:8080/"
        },
        "id": "y65GeSbPo5qm",
        "outputId": "0b2b76fd-597d-4535-efcf-2bc602870109"
      },
      "execution_count": 4,
      "outputs": [
        {
          "output_type": "stream",
          "name": "stdout",
          "text": [
            "[=================================================-] 100.0% 1662.0/1662.8MB downloaded\n"
          ]
        }
      ]
    },
    {
      "cell_type": "code",
      "source": [
        "# get_vector for word embedding\n",
        "\n",
        "vec1 = word2vec_300.get_vector(\"Superman\")            # This google news model has case sensitive.\n",
        "vec2 = word2vec_300.get_vector(\"Spiderman\")\n",
        "vec3 = word2vec_300.get_vector(\"Superhero\")"
      ],
      "metadata": {
        "id": "Q6SHWEuFo5u_"
      },
      "execution_count": 5,
      "outputs": []
    },
    {
      "cell_type": "code",
      "source": [
        "cosine_similarity(vec1.reshape(1,-1),vec2.reshape(1,-1))             # Superman and Spiderman have 54% of similarity"
      ],
      "metadata": {
        "colab": {
          "base_uri": "https://localhost:8080/"
        },
        "id": "uHqhDwBMo5yS",
        "outputId": "aef4a0f8-2741-4097-c036-980cd56d0bba"
      },
      "execution_count": 6,
      "outputs": [
        {
          "output_type": "execute_result",
          "data": {
            "text/plain": [
              "array([[0.5477701]], dtype=float32)"
            ]
          },
          "metadata": {},
          "execution_count": 6
        }
      ]
    },
    {
      "cell_type": "code",
      "source": [
        "cosine_similarity(vec1.reshape(1,-1),vec3.reshape(1,-1))            # Superman and Superhero have 54% of similarity"
      ],
      "metadata": {
        "colab": {
          "base_uri": "https://localhost:8080/"
        },
        "id": "yOFnl17so52S",
        "outputId": "23ddd067-aebf-4c5e-b616-7c0c3634a6af"
      },
      "execution_count": 7,
      "outputs": [
        {
          "output_type": "execute_result",
          "data": {
            "text/plain": [
              "array([[0.5475111]], dtype=float32)"
            ]
          },
          "metadata": {},
          "execution_count": 7
        }
      ]
    },
    {
      "cell_type": "code",
      "source": [
        "word2vec_300.most_similar(\"Capital\")     # Most similar word for Capital in finance context"
      ],
      "metadata": {
        "colab": {
          "base_uri": "https://localhost:8080/"
        },
        "id": "mgLciu_yo559",
        "outputId": "b0863af8-66d8-4be6-b2d0-09362e8326e0"
      },
      "execution_count": 8,
      "outputs": [
        {
          "output_type": "execute_result",
          "data": {
            "text/plain": [
              "[('Captial', 0.6502077579498291),\n",
              " ('Capital_Partners', 0.6405684351921082),\n",
              " ('Financial_Cp_COF', 0.581904411315918),\n",
              " ('Ltd_ACAS', 0.562832772731781),\n",
              " ('Edinburgh_Inspiring', 0.5587600469589233),\n",
              " ('LLC_Currency_Currents', 0.5564382076263428),\n",
              " ('www.internetcapital.com', 0.5522413849830627),\n",
              " ('Mitchelle_Stephenson', 0.5467348098754883),\n",
              " ('Development_Fund_UNCDF', 0.5438245534896851),\n",
              " ('LONG_BEACH_Mffais.com_Munder', 0.5372943878173828)]"
            ]
          },
          "metadata": {},
          "execution_count": 8
        }
      ]
    },
    {
      "cell_type": "code",
      "source": [
        "word2vec_300.most_similar(\"capital\")"
      ],
      "metadata": {
        "colab": {
          "base_uri": "https://localhost:8080/"
        },
        "id": "sN5DoDiwo5-k",
        "outputId": "bd7bfa70-9f91-4fbb-b874-aba26a5b9709"
      },
      "execution_count": 9,
      "outputs": [
        {
          "output_type": "execute_result",
          "data": {
            "text/plain": [
              "[('captial', 0.6443068981170654),\n",
              " ('worth_##mln_rub', 0.5211092829704285),\n",
              " ('worth_#.###bn_rub', 0.5162901282310486),\n",
              " ('worth_##.###bn_rub', 0.5028226971626282),\n",
              " ('Lima_Peruvians', 0.49432554841041565),\n",
              " ('thecapital', 0.4910687506198883),\n",
              " ('Bishkek_Otunbayeva', 0.4839523136615753),\n",
              " ('Andreessen_Horowitz_venture', 0.47973471879959106),\n",
              " ('EQUITY_Issued', 0.4725496470928192),\n",
              " ('liquidity', 0.4684329628944397)]"
            ]
          },
          "metadata": {},
          "execution_count": 9
        }
      ]
    },
    {
      "cell_type": "code",
      "source": [
        "word2vec_300.most_similar(\"king\")          # Most similar word for king"
      ],
      "metadata": {
        "colab": {
          "base_uri": "https://localhost:8080/"
        },
        "id": "5qZ9rG4to6K3",
        "outputId": "147184c4-39b3-4682-99cd-cde032d65112"
      },
      "execution_count": 10,
      "outputs": [
        {
          "output_type": "execute_result",
          "data": {
            "text/plain": [
              "[('kings', 0.7138045430183411),\n",
              " ('queen', 0.6510956883430481),\n",
              " ('monarch', 0.6413194537162781),\n",
              " ('crown_prince', 0.6204220056533813),\n",
              " ('prince', 0.6159993410110474),\n",
              " ('sultan', 0.5864824056625366),\n",
              " ('ruler', 0.5797567367553711),\n",
              " ('princes', 0.5646552443504333),\n",
              " ('Prince_Paras', 0.5432944297790527),\n",
              " ('throne', 0.5422105193138123)]"
            ]
          },
          "metadata": {},
          "execution_count": 10
        }
      ]
    },
    {
      "cell_type": "code",
      "source": [
        "# get_mean_vector for sentence embedding\n",
        "\n",
        "sent1 = \"The President is speaking to the media\"\n",
        "sent2 = \"Barack Obama is addressing the press\"\n",
        "\n",
        "vec1 = word2vec_300.get_mean_vector(sent1.split())\n",
        "vec2 = word2vec_300.get_mean_vector(sent2.split())"
      ],
      "metadata": {
        "id": "xUMVr7SEqT3y"
      },
      "execution_count": 11,
      "outputs": []
    },
    {
      "cell_type": "code",
      "source": [
        "cosine_similarity(vec1.reshape(1,-1),vec2.reshape(1,-1))      # Similarity between sentence 1 and 2 is 71%"
      ],
      "metadata": {
        "colab": {
          "base_uri": "https://localhost:8080/"
        },
        "id": "lmaZthdaqUWx",
        "outputId": "311a5a42-faf6-4f9d-82b4-a1a670a31850"
      },
      "execution_count": 12,
      "outputs": [
        {
          "output_type": "execute_result",
          "data": {
            "text/plain": [
              "array([[0.7156141]], dtype=float32)"
            ]
          },
          "metadata": {},
          "execution_count": 12
        }
      ]
    },
    {
      "cell_type": "code",
      "source": [
        "# For Text classification\n",
        "\n",
        "import pandas as pd\n",
        "import numpy as np"
      ],
      "metadata": {
        "id": "Y5Wue1zvqUp0"
      },
      "execution_count": 13,
      "outputs": []
    },
    {
      "cell_type": "code",
      "source": [
        "spam_data = pd.read_csv(\"spam.csv\", encoding='latin-1')"
      ],
      "metadata": {
        "id": "cWxPmLkUo6Oe"
      },
      "execution_count": 14,
      "outputs": []
    },
    {
      "cell_type": "code",
      "source": [
        "output = spam_data[\"Text\"].apply(lambda x: word2vec_300.get_mean_vector(x.split()))"
      ],
      "metadata": {
        "id": "sz489RaCq1C8"
      },
      "execution_count": 15,
      "outputs": []
    },
    {
      "cell_type": "code",
      "source": [
        "output"
      ],
      "metadata": {
        "colab": {
          "base_uri": "https://localhost:8080/"
        },
        "id": "kOXo4DZJq1Vg",
        "outputId": "6a300f56-06f8-4bb1-b662-953b31a48c20"
      },
      "execution_count": 16,
      "outputs": [
        {
          "output_type": "execute_result",
          "data": {
            "text/plain": [
              "0       [0.017343024, 0.01556247, 0.002628992, 0.05181...\n",
              "1       [-0.0421047, 0.028880663, 0.018837307, 0.02708...\n",
              "2       [0.001205553, -0.027647695, -0.023975767, -0.0...\n",
              "3       [-0.017826386, 0.015255115, 0.04653708, 0.0452...\n",
              "4       [0.047918282, 0.027473427, 0.01856114, 0.05941...\n",
              "                              ...                        \n",
              "5567    [-0.0046107373, 0.011564551, 0.029548835, 0.03...\n",
              "5568    [0.038656373, 0.04322333, 0.028277848, 0.05790...\n",
              "5569    [0.02228614, 0.0064519444, 0.033777863, 0.0212...\n",
              "5570    [0.032425433, 0.022816997, 0.013489032, 0.0376...\n",
              "5571    [0.013331791, 0.0613884, 0.054488778, 0.020679...\n",
              "Name: Text, Length: 5572, dtype: object"
            ]
          },
          "metadata": {},
          "execution_count": 16
        }
      ]
    },
    {
      "cell_type": "code",
      "source": [
        "output[1]"
      ],
      "metadata": {
        "colab": {
          "base_uri": "https://localhost:8080/"
        },
        "id": "6xFl6JFxq1e0",
        "outputId": "006db315-5a92-448d-82c3-b083a92e3e6b"
      },
      "execution_count": 17,
      "outputs": [
        {
          "output_type": "execute_result",
          "data": {
            "text/plain": [
              "array([-0.0421047 ,  0.02888066,  0.01883731,  0.02708547, -0.0238057 ,\n",
              "        0.01182648, -0.03776784, -0.01704452, -0.01869419,  0.02374483,\n",
              "       -0.03196044, -0.07632075, -0.10608982,  0.00310805, -0.04276608,\n",
              "        0.06520871,  0.04272574,  0.01600952,  0.02860351, -0.04736773,\n",
              "       -0.01502037, -0.01066177,  0.13683687, -0.00583687, -0.02046492,\n",
              "        0.02294894, -0.06142147, -0.02458499, -0.00096316, -0.03443025,\n",
              "       -0.00858044,  0.0346662 ,  0.01554852, -0.03529852, -0.04300201,\n",
              "        0.00719438, -0.00493147,  0.0534094 , -0.01443013,  0.05284488,\n",
              "       -0.02242807, -0.07494704,  0.1100094 ,  0.03379265,  0.04273374,\n",
              "       -0.03027657,  0.0068957 , -0.05298407, -0.01162209,  0.04736043,\n",
              "       -0.09307731,  0.03519025,  0.05872466,  0.05661248,  0.03705202,\n",
              "        0.05284238, -0.06260754, -0.04092712,  0.01608422, -0.03271327,\n",
              "        0.00946318,  0.00972249, -0.04190511, -0.00309412,  0.01432019,\n",
              "       -0.05974102, -0.02545707,  0.00229635, -0.05444139,  0.01732844,\n",
              "        0.03738208,  0.05983913,  0.01416472,  0.03117161, -0.07984549,\n",
              "        0.0285958 ,  0.03802463,  0.02664601,  0.02136967,  0.01237114,\n",
              "       -0.02944513, -0.00440412, -0.00713855, -0.0030714 , -0.01086316,\n",
              "        0.00422702,  0.00620202,  0.12000962,  0.01169836,  0.02394982,\n",
              "        0.02967393,  0.03029896, -0.01353427, -0.02574431, -0.05920384,\n",
              "        0.0640298 ,  0.03762668, -0.01275455,  0.094367  , -0.02395678,\n",
              "       -0.09329166, -0.01112797, -0.00721227, -0.02815337, -0.00238158,\n",
              "        0.0153247 , -0.0084035 , -0.03505187,  0.04116042, -0.00742953,\n",
              "       -0.04792139, -0.05122449,  0.02257859, -0.00664822,  0.00521661,\n",
              "       -0.0171108 ,  0.00661139, -0.06960493, -0.02881281, -0.05848163,\n",
              "        0.03511059,  0.03003963, -0.03675632, -0.02646419,  0.02388517,\n",
              "       -0.0379465 , -0.05607574,  0.03660227,  0.00473086, -0.00779137,\n",
              "       -0.07138849, -0.02168273,  0.0322468 ,  0.01570274, -0.00595991,\n",
              "       -0.01066465, -0.00913881, -0.00040045,  0.03584654,  0.03302203,\n",
              "        0.09613292, -0.0493024 ,  0.0147477 , -0.04844069, -0.02150282,\n",
              "       -0.01599438, -0.02532097, -0.03694109,  0.00983275, -0.03780738,\n",
              "        0.04513002, -0.04710633, -0.03028489, -0.07020114, -0.06317235,\n",
              "       -0.04636565,  0.00354006,  0.05071383, -0.0075045 , -0.07631713,\n",
              "        0.0045168 ,  0.01780301,  0.03924887, -0.00163294,  0.01743442,\n",
              "       -0.08706557,  0.02657753, -0.02272539, -0.06106941,  0.02795947,\n",
              "        0.03333054,  0.00145319,  0.01138605,  0.00889369, -0.05737067,\n",
              "        0.04276922,  0.05583902, -0.03179102,  0.03811333, -0.05521398,\n",
              "        0.0186376 , -0.01038005,  0.02745012,  0.02608676, -0.00062099,\n",
              "        0.0615396 , -0.03422425, -0.01400427, -0.02666643, -0.02377212,\n",
              "        0.03006562,  0.01779349, -0.00180393, -0.00890674,  0.04622537,\n",
              "        0.03583929, -0.04001485,  0.00047163, -0.00757862, -0.02324773,\n",
              "       -0.06668125,  0.00832107, -0.09184958, -0.02188593,  0.01533171,\n",
              "       -0.021466  , -0.01810226,  0.01903053, -0.03517845,  0.04252186,\n",
              "        0.07449437,  0.04861261, -0.03138931, -0.0235698 , -0.04426888,\n",
              "       -0.00982837,  0.00887005, -0.00742166, -0.05082494,  0.02213139,\n",
              "       -0.05164325,  0.03390104,  0.03577391,  0.00019885,  0.02932224,\n",
              "       -0.04824442,  0.01268696, -0.02079671, -0.08656343, -0.06006154,\n",
              "        0.03141089, -0.02675683, -0.0270285 , -0.02485587,  0.03449994,\n",
              "        0.01183016,  0.0029455 ,  0.02957718,  0.00911912,  0.05807464,\n",
              "        0.05943848,  0.04028881,  0.02129465, -0.00853582, -0.03670444,\n",
              "        0.0079082 , -0.01775166,  0.07426763,  0.01426256, -0.06629224,\n",
              "        0.05273859,  0.02562834,  0.01618198,  0.12656432,  0.04019975,\n",
              "       -0.00441366, -0.05199454,  0.02140814, -0.02046817, -0.00055795,\n",
              "        0.02824408, -0.0107355 ,  0.01903272, -0.01031417, -0.00544623,\n",
              "        0.02274343, -0.03806253,  0.00118625, -0.00727707, -0.0252479 ,\n",
              "       -0.03470432,  0.03565164,  0.08726767,  0.01706955,  0.05458768,\n",
              "       -0.0274251 , -0.00829387, -0.05289753, -0.06204705,  0.05616829,\n",
              "        0.02518361, -0.00180231,  0.01155023,  0.0211019 ,  0.0265909 ,\n",
              "       -0.00336763, -0.01775286,  0.03203927,  0.00080191,  0.02076506,\n",
              "        0.05449029,  0.0464993 , -0.06305861, -0.01910449, -0.03423311,\n",
              "       -0.10423774, -0.04810113, -0.04345512, -0.02627749,  0.01330756],\n",
              "      dtype=float32)"
            ]
          },
          "metadata": {},
          "execution_count": 17
        }
      ]
    },
    {
      "cell_type": "code",
      "source": [
        "output.shape"
      ],
      "metadata": {
        "colab": {
          "base_uri": "https://localhost:8080/"
        },
        "id": "ZxfuexpPo6R2",
        "outputId": "69734e32-50e8-4897-bbb9-ab73cc307ef4"
      },
      "execution_count": 18,
      "outputs": [
        {
          "output_type": "execute_result",
          "data": {
            "text/plain": [
              "(5572,)"
            ]
          },
          "metadata": {},
          "execution_count": 18
        }
      ]
    },
    {
      "cell_type": "code",
      "source": [],
      "metadata": {
        "id": "hmqpOx69reco"
      },
      "execution_count": null,
      "outputs": []
    }
  ]
}