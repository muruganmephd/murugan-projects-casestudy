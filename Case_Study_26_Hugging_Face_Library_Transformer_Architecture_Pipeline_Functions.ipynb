{
  "nbformat": 4,
  "nbformat_minor": 0,
  "metadata": {
    "colab": {
      "provenance": []
    },
    "kernelspec": {
      "name": "python3",
      "display_name": "Python 3"
    },
    "language_info": {
      "name": "python"
    }
  },
  "cells": [
    {
      "cell_type": "code",
      "execution_count": 11,
      "metadata": {
        "colab": {
          "base_uri": "https://localhost:8080/"
        },
        "id": "2O32WpaFo4cV",
        "outputId": "75414a08-6045-4b2c-98d4-df8134c30ebc"
      },
      "outputs": [
        {
          "output_type": "stream",
          "name": "stdout",
          "text": [
            "Requirement already satisfied: xformers in /usr/local/lib/python3.10/dist-packages (0.0.20)\n",
            "Requirement already satisfied: numpy in /usr/local/lib/python3.10/dist-packages (from xformers) (1.22.4)\n",
            "Requirement already satisfied: pyre-extensions==0.0.29 in /usr/local/lib/python3.10/dist-packages (from xformers) (0.0.29)\n",
            "Requirement already satisfied: torch==2.0.1 in /usr/local/lib/python3.10/dist-packages (from xformers) (2.0.1+cu118)\n",
            "Requirement already satisfied: typing-inspect in /usr/local/lib/python3.10/dist-packages (from pyre-extensions==0.0.29->xformers) (0.9.0)\n",
            "Requirement already satisfied: typing-extensions in /usr/local/lib/python3.10/dist-packages (from pyre-extensions==0.0.29->xformers) (4.6.3)\n",
            "Requirement already satisfied: filelock in /usr/local/lib/python3.10/dist-packages (from torch==2.0.1->xformers) (3.12.2)\n",
            "Requirement already satisfied: sympy in /usr/local/lib/python3.10/dist-packages (from torch==2.0.1->xformers) (1.11.1)\n",
            "Requirement already satisfied: networkx in /usr/local/lib/python3.10/dist-packages (from torch==2.0.1->xformers) (3.1)\n",
            "Requirement already satisfied: jinja2 in /usr/local/lib/python3.10/dist-packages (from torch==2.0.1->xformers) (3.1.2)\n",
            "Requirement already satisfied: triton==2.0.0 in /usr/local/lib/python3.10/dist-packages (from torch==2.0.1->xformers) (2.0.0)\n",
            "Requirement already satisfied: cmake in /usr/local/lib/python3.10/dist-packages (from triton==2.0.0->torch==2.0.1->xformers) (3.25.2)\n",
            "Requirement already satisfied: lit in /usr/local/lib/python3.10/dist-packages (from triton==2.0.0->torch==2.0.1->xformers) (16.0.6)\n",
            "Requirement already satisfied: MarkupSafe>=2.0 in /usr/local/lib/python3.10/dist-packages (from jinja2->torch==2.0.1->xformers) (2.1.3)\n",
            "Requirement already satisfied: mpmath>=0.19 in /usr/local/lib/python3.10/dist-packages (from sympy->torch==2.0.1->xformers) (1.3.0)\n",
            "Requirement already satisfied: mypy-extensions>=0.3.0 in /usr/local/lib/python3.10/dist-packages (from typing-inspect->pyre-extensions==0.0.29->xformers) (1.0.0)\n"
          ]
        }
      ],
      "source": [
        "!pip install xformers\n",
        "from transformers import pipeline"
      ]
    },
    {
      "cell_type": "code",
      "source": [
        "# pipeline functions\n",
        "# 1. sentiment-analysis\n",
        "\n",
        "classifier = pipeline(\"sentiment-analysis\")\n",
        "classifier(\"It is an amazing day today. Really love the vibe of the city\")"
      ],
      "metadata": {
        "colab": {
          "base_uri": "https://localhost:8080/"
        },
        "id": "W-XZ5bdip0iC",
        "outputId": "f8584fff-f852-4caf-a635-ce5c55bd1233"
      },
      "execution_count": 12,
      "outputs": [
        {
          "output_type": "stream",
          "name": "stderr",
          "text": [
            "No model was supplied, defaulted to distilbert-base-uncased-finetuned-sst-2-english and revision af0f99b (https://huggingface.co/distilbert-base-uncased-finetuned-sst-2-english).\n",
            "Using a pipeline without specifying a model name and revision in production is not recommended.\n"
          ]
        },
        {
          "output_type": "execute_result",
          "data": {
            "text/plain": [
              "[{'label': 'POSITIVE', 'score': 0.9998888969421387}]"
            ]
          },
          "metadata": {},
          "execution_count": 12
        }
      ]
    },
    {
      "cell_type": "code",
      "source": [
        "# Here, default model used is distilbert-base-uncased-finetuned-sst-2-english"
      ],
      "metadata": {
        "id": "uArFZft3p0mX"
      },
      "execution_count": null,
      "outputs": []
    },
    {
      "cell_type": "code",
      "source": [
        "classifier(\"The food could've definitely been better\")"
      ],
      "metadata": {
        "colab": {
          "base_uri": "https://localhost:8080/"
        },
        "id": "tC3d8feMp0_y",
        "outputId": "c225001c-4fd9-4634-bf20-9bd54139f2ae"
      },
      "execution_count": 13,
      "outputs": [
        {
          "output_type": "execute_result",
          "data": {
            "text/plain": [
              "[{'label': 'NEGATIVE', 'score': 0.9966699481010437}]"
            ]
          },
          "metadata": {},
          "execution_count": 13
        }
      ]
    },
    {
      "cell_type": "code",
      "source": [
        "classifier(\"My in-laws are as sweet as Nazis\") #sarcasm sentence is not handled well by this default model distilbert-base-uncased-finetuned-sst-2-english"
      ],
      "metadata": {
        "colab": {
          "base_uri": "https://localhost:8080/"
        },
        "id": "8Wr_nMdVp1DG",
        "outputId": "94e52c52-9c5c-4695-b84b-731df7de28e5"
      },
      "execution_count": 14,
      "outputs": [
        {
          "output_type": "execute_result",
          "data": {
            "text/plain": [
              "[{'label': 'POSITIVE', 'score': 0.9981145858764648}]"
            ]
          },
          "metadata": {},
          "execution_count": 14
        }
      ]
    },
    {
      "cell_type": "code",
      "source": [
        "# 2. zero-shot-classification\n",
        "\n",
        "classifier = pipeline(\"zero-shot-classification\")\n",
        "classifier(\"Joe biden is the current president of us\", candidate_labels = [\"education\", \"politics\", \"sports\"])"
      ],
      "metadata": {
        "colab": {
          "base_uri": "https://localhost:8080/"
        },
        "id": "riXmCVd5p1Ge",
        "outputId": "2ed25fed-7a78-4e47-aff0-5576e4f9bccb"
      },
      "execution_count": 15,
      "outputs": [
        {
          "output_type": "stream",
          "name": "stderr",
          "text": [
            "No model was supplied, defaulted to facebook/bart-large-mnli and revision c626438 (https://huggingface.co/facebook/bart-large-mnli).\n",
            "Using a pipeline without specifying a model name and revision in production is not recommended.\n"
          ]
        },
        {
          "output_type": "execute_result",
          "data": {
            "text/plain": [
              "{'sequence': 'Joe biden is the current president of us',\n",
              " 'labels': ['politics', 'education', 'sports'],\n",
              " 'scores': [0.8968348503112793, 0.054720111191272736, 0.048445045948028564]}"
            ]
          },
          "metadata": {},
          "execution_count": 15
        }
      ]
    },
    {
      "cell_type": "code",
      "source": [
        "# politics label has highest percentage"
      ],
      "metadata": {
        "id": "0OR5hglrp1Kp"
      },
      "execution_count": null,
      "outputs": []
    },
    {
      "cell_type": "code",
      "source": [
        "classifier(\"WINNER! Congratulations on winning a free gift. Send message to 58585 to redeem your gift\", candidate_labels = [\"spam\", \"not spam\"])"
      ],
      "metadata": {
        "colab": {
          "base_uri": "https://localhost:8080/"
        },
        "id": "7L1jsMYjp1fC",
        "outputId": "46c81bfd-a716-4c19-9e21-90edcb48665c"
      },
      "execution_count": 16,
      "outputs": [
        {
          "output_type": "execute_result",
          "data": {
            "text/plain": [
              "{'sequence': 'WINNER! Congratulations on winning a free gift. Send message to 58585 to redeem your gift',\n",
              " 'labels': ['not spam', 'spam'],\n",
              " 'scores': [0.7400112152099609, 0.25998878479003906]}"
            ]
          },
          "metadata": {},
          "execution_count": 16
        }
      ]
    },
    {
      "cell_type": "code",
      "source": [
        "# Actually this sentence is a spam. But this model predicts it's a not spam. So this model(facebook/bart-large-mnli) not working well for this sentence."
      ],
      "metadata": {
        "id": "YGLoXamFp1iK"
      },
      "execution_count": null,
      "outputs": []
    },
    {
      "cell_type": "code",
      "source": [
        "# 3. text-generation\n",
        "\n",
        "generator = pipeline(\"text-generation\")\n",
        "generator(\"India is a country with vast\")"
      ],
      "metadata": {
        "colab": {
          "base_uri": "https://localhost:8080/"
        },
        "id": "S4YoMT-Mp1lO",
        "outputId": "ea72e021-f3f5-4e1c-adc0-e10f831e727d"
      },
      "execution_count": 17,
      "outputs": [
        {
          "output_type": "stream",
          "name": "stderr",
          "text": [
            "No model was supplied, defaulted to gpt2 and revision 6c0e608 (https://huggingface.co/gpt2).\n",
            "Using a pipeline without specifying a model name and revision in production is not recommended.\n",
            "Setting `pad_token_id` to `eos_token_id`:50256 for open-end generation.\n"
          ]
        },
        {
          "output_type": "execute_result",
          "data": {
            "text/plain": [
              "[{'generated_text': 'India is a country with vast potential for rapid globalization. With its large and growing population, low levels of social poverty, high education levels, low mortality rates, and high healthcare spending, India is faring well. So far, India is ranked as'}]"
            ]
          },
          "metadata": {},
          "execution_count": 17
        }
      ]
    },
    {
      "cell_type": "code",
      "source": [
        "# 4. fill-mask\n",
        "\n",
        "unmasker = pipeline(\"fill-mask\")\n",
        "unmasker(\"we had an amazing <mask> with our friends. would love to do this again.\")"
      ],
      "metadata": {
        "colab": {
          "base_uri": "https://localhost:8080/"
        },
        "id": "Dy9vZte4sMag",
        "outputId": "b7d043ac-d552-479d-aa3d-22e9c1301b12"
      },
      "execution_count": 18,
      "outputs": [
        {
          "output_type": "stream",
          "name": "stderr",
          "text": [
            "No model was supplied, defaulted to distilroberta-base and revision ec58a5b (https://huggingface.co/distilroberta-base).\n",
            "Using a pipeline without specifying a model name and revision in production is not recommended.\n"
          ]
        },
        {
          "output_type": "execute_result",
          "data": {
            "text/plain": [
              "[{'score': 0.13491316139698029,\n",
              "  'token': 1607,\n",
              "  'token_str': ' conversation',\n",
              "  'sequence': 'we had an amazing conversation with our friends. would love to do this again.'},\n",
              " {'score': 0.0977882444858551,\n",
              "  'token': 86,\n",
              "  'token_str': ' time',\n",
              "  'sequence': 'we had an amazing time with our friends. would love to do this again.'},\n",
              " {'score': 0.08337441831827164,\n",
              "  'token': 983,\n",
              "  'token_str': ' weekend',\n",
              "  'sequence': 'we had an amazing weekend with our friends. would love to do this again.'},\n",
              " {'score': 0.07885521650314331,\n",
              "  'token': 1559,\n",
              "  'token_str': ' evening',\n",
              "  'sequence': 'we had an amazing evening with our friends. would love to do this again.'},\n",
              " {'score': 0.06824962049722672,\n",
              "  'token': 7359,\n",
              "  'token_str': ' chat',\n",
              "  'sequence': 'we had an amazing chat with our friends. would love to do this again.'}]"
            ]
          },
          "metadata": {},
          "execution_count": 18
        }
      ]
    },
    {
      "cell_type": "code",
      "source": [
        "# we had an amazing conversation or time or weekend or evening or chat with our friends. would love to do this again."
      ],
      "metadata": {
        "id": "M50uON0FsMuC"
      },
      "execution_count": null,
      "outputs": []
    },
    {
      "cell_type": "code",
      "source": [],
      "metadata": {
        "id": "BeGDAe8PsNAL"
      },
      "execution_count": null,
      "outputs": []
    }
  ]
}