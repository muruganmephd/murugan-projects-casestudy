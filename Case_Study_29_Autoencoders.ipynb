{
  "nbformat": 4,
  "nbformat_minor": 0,
  "metadata": {
    "colab": {
      "provenance": []
    },
    "kernelspec": {
      "name": "python3",
      "display_name": "Python 3"
    },
    "language_info": {
      "name": "python"
    }
  },
  "cells": [
    {
      "cell_type": "code",
      "execution_count": 1,
      "metadata": {
        "id": "s4tlym9brpeJ"
      },
      "outputs": [],
      "source": [
        "from tensorflow.keras.layers import Input, Dense\n",
        "from tensorflow.keras.models import Sequential\n",
        "from tensorflow.keras.datasets import mnist\n",
        "import matplotlib.pyplot as plt"
      ]
    },
    {
      "cell_type": "code",
      "source": [
        "(x_train,_),(x_test, _) = mnist.load_data()             # Here, target variable is not needed. so, y_train and y_test are not needed."
      ],
      "metadata": {
        "colab": {
          "base_uri": "https://localhost:8080/"
        },
        "id": "GhUZpJVksXXZ",
        "outputId": "baab5250-7109-4df8-ab2d-90fb33fc725d"
      },
      "execution_count": 2,
      "outputs": [
        {
          "output_type": "stream",
          "name": "stdout",
          "text": [
            "Downloading data from https://storage.googleapis.com/tensorflow/tf-keras-datasets/mnist.npz\n",
            "11490434/11490434 [==============================] - 1s 0us/step\n"
          ]
        }
      ]
    },
    {
      "cell_type": "code",
      "source": [
        "x_train = x_train.reshape(-1, 784)\n",
        "x_test = x_test.reshape(-1, 784)"
      ],
      "metadata": {
        "id": "WVZNHg5KsXl4"
      },
      "execution_count": 3,
      "outputs": []
    },
    {
      "cell_type": "code",
      "source": [
        "model = Sequential()\n",
        "model.add(Input(shape=(784,))) # Input\n",
        "model.add(Dense(350, activation=\"relu\")) # Hidden Layer\n",
        "model.add(Dense(100, activation=\"relu\")) # Code\n",
        "model.add(Dense(350, activation=\"relu\")) # Hidden Layer\n",
        "model.add(Dense(784)) # Output"
      ],
      "metadata": {
        "id": "qpkI_Db6sXo3"
      },
      "execution_count": 4,
      "outputs": []
    },
    {
      "cell_type": "code",
      "source": [
        "model.compile(optimizer=\"adam\",\n",
        "              loss=\"mean_squared_error\")"
      ],
      "metadata": {
        "id": "XeeJiivLsX2p"
      },
      "execution_count": 5,
      "outputs": []
    },
    {
      "cell_type": "code",
      "source": [
        "model.fit(x=x_train,\n",
        "          y=x_train,\n",
        "          epochs=50,\n",
        "          batch_size=1000,\n",
        "          validation_data = (x_test, x_test))                 # Here, y=x_train , because we pass the x_train as image and predict the same x_train as\n",
        "                                                              # image as output."
      ],
      "metadata": {
        "colab": {
          "base_uri": "https://localhost:8080/"
        },
        "id": "Rw0_lFf-sX57",
        "outputId": "6dff60ab-3d03-4138-a757-ea3d5bc13241"
      },
      "execution_count": 6,
      "outputs": [
        {
          "output_type": "stream",
          "name": "stdout",
          "text": [
            "Epoch 1/50\n",
            "60/60 [==============================] - 8s 109ms/step - loss: 3697.3562 - val_loss: 2207.3513\n",
            "Epoch 2/50\n",
            "60/60 [==============================] - 5s 83ms/step - loss: 1692.2622 - val_loss: 1309.3824\n",
            "Epoch 3/50\n",
            "60/60 [==============================] - 6s 104ms/step - loss: 1169.9261 - val_loss: 1006.3276\n",
            "Epoch 4/50\n",
            "60/60 [==============================] - 5s 84ms/step - loss: 964.9945 - val_loss: 911.4162\n",
            "Epoch 5/50\n",
            "60/60 [==============================] - 5s 83ms/step - loss: 864.8326 - val_loss: 804.4543\n",
            "Epoch 6/50\n",
            "60/60 [==============================] - 6s 105ms/step - loss: 801.9321 - val_loss: 801.4982\n",
            "Epoch 7/50\n",
            "60/60 [==============================] - 5s 82ms/step - loss: 761.4444 - val_loss: 736.8458\n",
            "Epoch 8/50\n",
            "60/60 [==============================] - 6s 105ms/step - loss: 728.5352 - val_loss: 698.1260\n",
            "Epoch 9/50\n",
            "60/60 [==============================] - 5s 84ms/step - loss: 703.9148 - val_loss: 675.7335\n",
            "Epoch 10/50\n",
            "60/60 [==============================] - 7s 124ms/step - loss: 687.1624 - val_loss: 666.0859\n",
            "Epoch 11/50\n",
            "60/60 [==============================] - 5s 85ms/step - loss: 673.5680 - val_loss: 645.5852\n",
            "Epoch 12/50\n",
            "60/60 [==============================] - 5s 85ms/step - loss: 660.8615 - val_loss: 634.3809\n",
            "Epoch 13/50\n",
            "60/60 [==============================] - 6s 103ms/step - loss: 650.6799 - val_loss: 624.5298\n",
            "Epoch 14/50\n",
            "60/60 [==============================] - 5s 82ms/step - loss: 642.8877 - val_loss: 619.4223\n",
            "Epoch 15/50\n",
            "60/60 [==============================] - 7s 111ms/step - loss: 633.6249 - val_loss: 609.7390\n",
            "Epoch 16/50\n",
            "60/60 [==============================] - 5s 85ms/step - loss: 623.1315 - val_loss: 599.1263\n",
            "Epoch 17/50\n",
            "60/60 [==============================] - 6s 100ms/step - loss: 619.5753 - val_loss: 591.6352\n",
            "Epoch 18/50\n",
            "60/60 [==============================] - 5s 84ms/step - loss: 611.5901 - val_loss: 583.6519\n",
            "Epoch 19/50\n",
            "60/60 [==============================] - 5s 82ms/step - loss: 601.3484 - val_loss: 582.8877\n",
            "Epoch 20/50\n",
            "60/60 [==============================] - 6s 106ms/step - loss: 594.2151 - val_loss: 576.8469\n",
            "Epoch 21/50\n",
            "60/60 [==============================] - 5s 82ms/step - loss: 589.2256 - val_loss: 571.0900\n",
            "Epoch 22/50\n",
            "60/60 [==============================] - 6s 105ms/step - loss: 589.7706 - val_loss: 563.7968\n",
            "Epoch 23/50\n",
            "60/60 [==============================] - 5s 82ms/step - loss: 577.8185 - val_loss: 564.7552\n",
            "Epoch 24/50\n",
            "60/60 [==============================] - 5s 89ms/step - loss: 576.9273 - val_loss: 561.0572\n",
            "Epoch 25/50\n",
            "60/60 [==============================] - 6s 97ms/step - loss: 579.5404 - val_loss: 554.7517\n",
            "Epoch 26/50\n",
            "60/60 [==============================] - 5s 83ms/step - loss: 573.2966 - val_loss: 551.5204\n",
            "Epoch 27/50\n",
            "60/60 [==============================] - 6s 104ms/step - loss: 570.2645 - val_loss: 547.8274\n",
            "Epoch 28/50\n",
            "60/60 [==============================] - 5s 81ms/step - loss: 564.6168 - val_loss: 545.3061\n",
            "Epoch 29/50\n",
            "60/60 [==============================] - 7s 112ms/step - loss: 562.8741 - val_loss: 544.2185\n",
            "Epoch 30/50\n",
            "60/60 [==============================] - 5s 88ms/step - loss: 562.4540 - val_loss: 541.6307\n",
            "Epoch 31/50\n",
            "60/60 [==============================] - 5s 90ms/step - loss: 557.4359 - val_loss: 539.8558\n",
            "Epoch 32/50\n",
            "60/60 [==============================] - 6s 100ms/step - loss: 554.0388 - val_loss: 534.6411\n",
            "Epoch 33/50\n",
            "60/60 [==============================] - 5s 83ms/step - loss: 549.7898 - val_loss: 531.4944\n",
            "Epoch 34/50\n",
            "60/60 [==============================] - 6s 106ms/step - loss: 545.0984 - val_loss: 527.5782\n",
            "Epoch 35/50\n",
            "60/60 [==============================] - 5s 82ms/step - loss: 541.7734 - val_loss: 521.0312\n",
            "Epoch 36/50\n",
            "60/60 [==============================] - 6s 106ms/step - loss: 533.5436 - val_loss: 514.3580\n",
            "Epoch 37/50\n",
            "60/60 [==============================] - 5s 85ms/step - loss: 530.9186 - val_loss: 516.3124\n",
            "Epoch 38/50\n",
            "60/60 [==============================] - 5s 84ms/step - loss: 524.7954 - val_loss: 507.5815\n",
            "Epoch 39/50\n",
            "60/60 [==============================] - 6s 107ms/step - loss: 525.8825 - val_loss: 502.8404\n",
            "Epoch 40/50\n",
            "60/60 [==============================] - 5s 84ms/step - loss: 518.5728 - val_loss: 501.3721\n",
            "Epoch 41/50\n",
            "60/60 [==============================] - 6s 109ms/step - loss: 514.9343 - val_loss: 501.5453\n",
            "Epoch 42/50\n",
            "60/60 [==============================] - 5s 82ms/step - loss: 517.6003 - val_loss: 510.1295\n",
            "Epoch 43/50\n",
            "60/60 [==============================] - 6s 104ms/step - loss: 512.9901 - val_loss: 497.4976\n",
            "Epoch 44/50\n",
            "60/60 [==============================] - 5s 85ms/step - loss: 515.4987 - val_loss: 496.5130\n",
            "Epoch 45/50\n",
            "60/60 [==============================] - 5s 84ms/step - loss: 513.4550 - val_loss: 496.9185\n",
            "Epoch 46/50\n",
            "60/60 [==============================] - 10s 171ms/step - loss: 506.5849 - val_loss: 503.0492\n",
            "Epoch 47/50\n",
            "60/60 [==============================] - 8s 139ms/step - loss: 503.6961 - val_loss: 490.3552\n",
            "Epoch 48/50\n",
            "60/60 [==============================] - 5s 83ms/step - loss: 506.1092 - val_loss: 488.2350\n",
            "Epoch 49/50\n",
            "60/60 [==============================] - 8s 135ms/step - loss: 502.0558 - val_loss: 487.7750\n",
            "Epoch 50/50\n",
            "60/60 [==============================] - 5s 82ms/step - loss: 501.1736 - val_loss: 497.1981\n"
          ]
        },
        {
          "output_type": "execute_result",
          "data": {
            "text/plain": [
              "<keras.callbacks.History at 0x7f2bd5dc2a10>"
            ]
          },
          "metadata": {},
          "execution_count": 6
        }
      ]
    },
    {
      "cell_type": "code",
      "source": [
        "model.summary()"
      ],
      "metadata": {
        "colab": {
          "base_uri": "https://localhost:8080/"
        },
        "id": "SVzUboKosYAA",
        "outputId": "f45d44c2-3e65-400b-caaf-9933742f0bc9"
      },
      "execution_count": 7,
      "outputs": [
        {
          "output_type": "stream",
          "name": "stdout",
          "text": [
            "Model: \"sequential\"\n",
            "_________________________________________________________________\n",
            " Layer (type)                Output Shape              Param #   \n",
            "=================================================================\n",
            " dense (Dense)               (None, 350)               274750    \n",
            "                                                                 \n",
            " dense_1 (Dense)             (None, 100)               35100     \n",
            "                                                                 \n",
            " dense_2 (Dense)             (None, 350)               35350     \n",
            "                                                                 \n",
            " dense_3 (Dense)             (None, 784)               275184    \n",
            "                                                                 \n",
            "=================================================================\n",
            "Total params: 620,384\n",
            "Trainable params: 620,384\n",
            "Non-trainable params: 0\n",
            "_________________________________________________________________\n"
          ]
        }
      ]
    },
    {
      "cell_type": "code",
      "source": [
        "model.layers"
      ],
      "metadata": {
        "colab": {
          "base_uri": "https://localhost:8080/"
        },
        "id": "7gvdB9lxsYDL",
        "outputId": "01977ea8-9631-4ad3-ba41-7f2a7236788a"
      },
      "execution_count": 8,
      "outputs": [
        {
          "output_type": "execute_result",
          "data": {
            "text/plain": [
              "[<keras.layers.core.dense.Dense at 0x7f2b4c977f40>,\n",
              " <keras.layers.core.dense.Dense at 0x7f2b4c94f4f0>,\n",
              " <keras.layers.core.dense.Dense at 0x7f2bd5dd8970>,\n",
              " <keras.layers.core.dense.Dense at 0x7f2b54b859c0>]"
            ]
          },
          "metadata": {},
          "execution_count": 8
        }
      ]
    },
    {
      "cell_type": "code",
      "source": [
        "# Encoder\n",
        "\n",
        "encoder = Sequential()\n",
        "for layer in model.layers[:1]:                # upto 1st layer\n",
        "    encoder.add(layer)"
      ],
      "metadata": {
        "id": "TX5yFCkusYGJ"
      },
      "execution_count": 9,
      "outputs": []
    },
    {
      "cell_type": "code",
      "source": [
        "encoder.build(input_shape=(None,784))"
      ],
      "metadata": {
        "id": "pLg0NvodsYJ7"
      },
      "execution_count": 10,
      "outputs": []
    },
    {
      "cell_type": "code",
      "source": [
        "encoder.summary()"
      ],
      "metadata": {
        "colab": {
          "base_uri": "https://localhost:8080/"
        },
        "id": "AK-7-wx1sYNM",
        "outputId": "afc117b2-a544-48ea-9a24-f8a12fc5620a"
      },
      "execution_count": 11,
      "outputs": [
        {
          "output_type": "stream",
          "name": "stdout",
          "text": [
            "Model: \"sequential_1\"\n",
            "_________________________________________________________________\n",
            " Layer (type)                Output Shape              Param #   \n",
            "=================================================================\n",
            " dense (Dense)               (None, 350)               274750    \n",
            "                                                                 \n",
            "=================================================================\n",
            "Total params: 274,750\n",
            "Trainable params: 274,750\n",
            "Non-trainable params: 0\n",
            "_________________________________________________________________\n"
          ]
        }
      ]
    },
    {
      "cell_type": "code",
      "source": [
        "# Decoder\n",
        "\n",
        "decoder = Sequential()\n",
        "for layer in model.layers[1:]:        # After 1st layer onwards\n",
        "    decoder.add(layer)\n",
        "\n",
        "decoder.build(input_shape=(None,350))\n",
        "decoder.summary()"
      ],
      "metadata": {
        "colab": {
          "base_uri": "https://localhost:8080/"
        },
        "id": "-ubzS2T7sYQZ",
        "outputId": "d837b78f-5c1d-4485-e02b-3f231293464e"
      },
      "execution_count": 12,
      "outputs": [
        {
          "output_type": "stream",
          "name": "stdout",
          "text": [
            "Model: \"sequential_2\"\n",
            "_________________________________________________________________\n",
            " Layer (type)                Output Shape              Param #   \n",
            "=================================================================\n",
            " dense_1 (Dense)             (None, 100)               35100     \n",
            "                                                                 \n",
            " dense_2 (Dense)             (None, 350)               35350     \n",
            "                                                                 \n",
            " dense_3 (Dense)             (None, 784)               275184    \n",
            "                                                                 \n",
            "=================================================================\n",
            "Total params: 345,634\n",
            "Trainable params: 345,634\n",
            "Non-trainable params: 0\n",
            "_________________________________________________________________\n"
          ]
        }
      ]
    },
    {
      "cell_type": "code",
      "source": [
        "# Testing Encoder and Decoder"
      ],
      "metadata": {
        "id": "9GqNOg79tpY6"
      },
      "execution_count": null,
      "outputs": []
    },
    {
      "cell_type": "code",
      "source": [
        "# Original Image\n",
        "plt.imshow(x_test[10].reshape(28,28), cmap=\"gray\")\n",
        "plt.show()"
      ],
      "metadata": {
        "colab": {
          "base_uri": "https://localhost:8080/",
          "height": 430
        },
        "id": "Sn6qwmFItpom",
        "outputId": "7a890b32-a509-4871-ca1b-7a5e90acca42"
      },
      "execution_count": 13,
      "outputs": [
        {
          "output_type": "display_data",
          "data": {
            "text/plain": [
              "<Figure size 640x480 with 1 Axes>"
            ],
            "image/png": "[encoded data removed]"
          },
          "metadata": {}
        }
      ]
    },
    {
      "cell_type": "code",
      "source": [
        "# Get Compressed Representation\n",
        "\n",
        "code = encoder.predict(x_test)      # This code for all the images\n",
        "code[10].shape                      # This code especially for 10th image"
      ],
      "metadata": {
        "colab": {
          "base_uri": "https://localhost:8080/"
        },
        "id": "GbTdtyCYtpr1",
        "outputId": "05c23b14-d90b-4dac-e3ce-b07ac1113d1d"
      },
      "execution_count": 14,
      "outputs": [
        {
          "output_type": "stream",
          "name": "stdout",
          "text": [
            "313/313 [==============================] - 1s 2ms/step\n"
          ]
        },
        {
          "output_type": "execute_result",
          "data": {
            "text/plain": [
              "(350,)"
            ]
          },
          "metadata": {},
          "execution_count": 14
        }
      ]
    },
    {
      "cell_type": "code",
      "source": [
        "# De Compress this Representation using Decoder\n",
        "\n",
        "x_test_reconstructed = decoder.predict(code)"
      ],
      "metadata": {
        "colab": {
          "base_uri": "https://localhost:8080/"
        },
        "id": "Y_ercN2YtpvI",
        "outputId": "352b5ba8-9a04-4d74-cc68-5afa548b9813"
      },
      "execution_count": 15,
      "outputs": [
        {
          "output_type": "stream",
          "name": "stdout",
          "text": [
            "313/313 [==============================] - 1s 3ms/step\n"
          ]
        }
      ]
    },
    {
      "cell_type": "code",
      "source": [
        "x_test_reconstructed[10].shape"
      ],
      "metadata": {
        "colab": {
          "base_uri": "https://localhost:8080/"
        },
        "id": "yreP7MFtuB0G",
        "outputId": "27eff50a-f357-47a6-efa9-07ebdd06c9ba"
      },
      "execution_count": 16,
      "outputs": [
        {
          "output_type": "execute_result",
          "data": {
            "text/plain": [
              "(784,)"
            ]
          },
          "metadata": {},
          "execution_count": 16
        }
      ]
    },
    {
      "cell_type": "code",
      "source": [
        "# Reconstructed Image\n",
        "plt.imshow(x_test_reconstructed[10].reshape(28,28), cmap=\"gray\")\n",
        "plt.show()"
      ],
      "metadata": {
        "colab": {
          "base_uri": "https://localhost:8080/",
          "height": 430
        },
        "id": "N_PO7oUZuCE5",
        "outputId": "f5f8276d-58ed-4c8a-caac-867bf77f6ace"
      },
      "execution_count": 17,
      "outputs": [
        {
          "output_type": "display_data",
          "data": {
            "text/plain": [
              "<Figure size 640x480 with 1 Axes>"
            ],
            "image/png": "[encoded data removed]"
          },
          "metadata": {}
        }
      ]
    },
    {
      "cell_type": "code",
      "source": [
        "# Here, we are not using 784 pixels to get reconstructed image. Only using 350 pixels (by compression) to get the reconstructed image."
      ],
      "metadata": {
        "id": "4_L7ctnQuN5t"
      },
      "execution_count": null,
      "outputs": []
    },
    {
      "cell_type": "code",
      "source": [],
      "metadata": {
        "id": "LpoqATNCuChQ"
      },
      "execution_count": null,
      "outputs": []
    }
  ]
}